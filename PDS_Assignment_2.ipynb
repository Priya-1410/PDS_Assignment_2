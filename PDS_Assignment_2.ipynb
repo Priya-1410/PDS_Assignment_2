{
  "nbformat": 4,
  "nbformat_minor": 0,
  "metadata": {
    "colab": {
      "provenance": []
    },
    "kernelspec": {
      "name": "ir",
      "display_name": "R"
    },
    "language_info": {
      "name": "R"
    }
  },
  "cells": [
    {
      "cell_type": "code",
      "execution_count": 32,
      "metadata": {
        "colab": {
          "base_uri": "https://localhost:8080/"
        },
        "id": "qjaw77df_yMp",
        "outputId": "5485eb97-7f8d-4ac4-b5cc-a51d5e78ea25"
      },
      "outputs": [
        {
          "output_type": "stream",
          "name": "stderr",
          "text": [
            "Installing package into ‘/usr/local/lib/R/site-library’\n",
            "(as ‘lib’ is unspecified)\n",
            "\n"
          ]
        }
      ],
      "source": [
        "install.packages(\"tidyverse\")"
      ]
    },
    {
      "cell_type": "code",
      "source": [
        "library(tidyverse)\n",
        "library(dplyr)"
      ],
      "metadata": {
        "id": "qhvyTIl2AIx4"
      },
      "execution_count": 33,
      "outputs": []
    },
    {
      "cell_type": "code",
      "source": [
        "data <- read_csv(\"train.csv\")\n",
        "head(data)"
      ],
      "metadata": {
        "colab": {
          "base_uri": "https://localhost:8080/",
          "height": 538
        },
        "id": "Dzo3WZdbAmCa",
        "outputId": "1b898b75-72ed-4c0b-ca83-08ea7016f8a2"
      },
      "execution_count": 34,
      "outputs": [
        {
          "output_type": "stream",
          "name": "stderr",
          "text": [
            "\u001b[1m\u001b[22mNew names:\n",
            "\u001b[36m•\u001b[39m `` -> `...1`\n",
            "\u001b[1mRows: \u001b[22m\u001b[34m5847\u001b[39m \u001b[1mColumns: \u001b[22m\u001b[34m14\u001b[39m\n",
            "\u001b[36m──\u001b[39m \u001b[1mColumn specification\u001b[22m \u001b[36m────────────────────────────────────────────────────────\u001b[39m\n",
            "\u001b[1mDelimiter:\u001b[22m \",\"\n",
            "\u001b[31mchr\u001b[39m (9): Name, Location, Fuel_Type, Transmission, Owner_Type, Mileage, Engin...\n",
            "\u001b[32mdbl\u001b[39m (5): ...1, Year, Kilometers_Driven, Seats, Price\n",
            "\n",
            "\u001b[36mℹ\u001b[39m Use `spec()` to retrieve the full column specification for this data.\n",
            "\u001b[36mℹ\u001b[39m Specify the column types or set `show_col_types = FALSE` to quiet this message.\n"
          ]
        },
        {
          "output_type": "display_data",
          "data": {
            "text/html": [
              "<table class=\"dataframe\">\n",
              "<caption>A tibble: 6 × 14</caption>\n",
              "<thead>\n",
              "\t<tr><th scope=col>...1</th><th scope=col>Name</th><th scope=col>Location</th><th scope=col>Year</th><th scope=col>Kilometers_Driven</th><th scope=col>Fuel_Type</th><th scope=col>Transmission</th><th scope=col>Owner_Type</th><th scope=col>Mileage</th><th scope=col>Engine</th><th scope=col>Power</th><th scope=col>Seats</th><th scope=col>New_Price</th><th scope=col>Price</th></tr>\n",
              "\t<tr><th scope=col>&lt;dbl&gt;</th><th scope=col>&lt;chr&gt;</th><th scope=col>&lt;chr&gt;</th><th scope=col>&lt;dbl&gt;</th><th scope=col>&lt;dbl&gt;</th><th scope=col>&lt;chr&gt;</th><th scope=col>&lt;chr&gt;</th><th scope=col>&lt;chr&gt;</th><th scope=col>&lt;chr&gt;</th><th scope=col>&lt;chr&gt;</th><th scope=col>&lt;chr&gt;</th><th scope=col>&lt;dbl&gt;</th><th scope=col>&lt;chr&gt;</th><th scope=col>&lt;dbl&gt;</th></tr>\n",
              "</thead>\n",
              "<tbody>\n",
              "\t<tr><td>1</td><td>Hyundai Creta 1.6 CRDi SX Option </td><td>Pune      </td><td>2015</td><td>41000</td><td>Diesel</td><td>Manual   </td><td>First </td><td>19.67 kmpl</td><td>1582 CC</td><td>126.2 bhp</td><td>5</td><td>NA       </td><td>12.50</td></tr>\n",
              "\t<tr><td>2</td><td>Honda Jazz V                     </td><td>Chennai   </td><td>2011</td><td>46000</td><td>Petrol</td><td>Manual   </td><td>First </td><td>13 km/kg  </td><td>1199 CC</td><td>88.7 bhp </td><td>5</td><td>8.61 Lakh</td><td> 4.50</td></tr>\n",
              "\t<tr><td>3</td><td>Maruti Ertiga VDI                </td><td>Chennai   </td><td>2012</td><td>87000</td><td>Diesel</td><td>Manual   </td><td>First </td><td>20.77 kmpl</td><td>1248 CC</td><td>88.76 bhp</td><td>7</td><td>NA       </td><td> 6.00</td></tr>\n",
              "\t<tr><td>4</td><td>Audi A4 New 2.0 TDI Multitronic  </td><td>Coimbatore</td><td>2013</td><td>40670</td><td>Diesel</td><td>Automatic</td><td>Second</td><td>15.2 kmpl </td><td>1968 CC</td><td>140.8 bhp</td><td>5</td><td>NA       </td><td>17.74</td></tr>\n",
              "\t<tr><td>6</td><td>Nissan Micra Diesel XV           </td><td>Jaipur    </td><td>2013</td><td>86999</td><td>Diesel</td><td>Manual   </td><td>First </td><td>23.08 kmpl</td><td>1461 CC</td><td>63.1 bhp </td><td>5</td><td>NA       </td><td> 3.50</td></tr>\n",
              "\t<tr><td>7</td><td>Toyota Innova Crysta 2.8 GX AT 8S</td><td>Mumbai    </td><td>2016</td><td>36000</td><td>Diesel</td><td>Automatic</td><td>First </td><td>11.36 kmpl</td><td>2755 CC</td><td>171.5 bhp</td><td>8</td><td>21 Lakh  </td><td>17.50</td></tr>\n",
              "</tbody>\n",
              "</table>\n"
            ],
            "text/markdown": "\nA tibble: 6 × 14\n\n| ...1 &lt;dbl&gt; | Name &lt;chr&gt; | Location &lt;chr&gt; | Year &lt;dbl&gt; | Kilometers_Driven &lt;dbl&gt; | Fuel_Type &lt;chr&gt; | Transmission &lt;chr&gt; | Owner_Type &lt;chr&gt; | Mileage &lt;chr&gt; | Engine &lt;chr&gt; | Power &lt;chr&gt; | Seats &lt;dbl&gt; | New_Price &lt;chr&gt; | Price &lt;dbl&gt; |\n|---|---|---|---|---|---|---|---|---|---|---|---|---|---|\n| 1 | Hyundai Creta 1.6 CRDi SX Option  | Pune       | 2015 | 41000 | Diesel | Manual    | First  | 19.67 kmpl | 1582 CC | 126.2 bhp | 5 | NA        | 12.50 |\n| 2 | Honda Jazz V                      | Chennai    | 2011 | 46000 | Petrol | Manual    | First  | 13 km/kg   | 1199 CC | 88.7 bhp  | 5 | 8.61 Lakh |  4.50 |\n| 3 | Maruti Ertiga VDI                 | Chennai    | 2012 | 87000 | Diesel | Manual    | First  | 20.77 kmpl | 1248 CC | 88.76 bhp | 7 | NA        |  6.00 |\n| 4 | Audi A4 New 2.0 TDI Multitronic   | Coimbatore | 2013 | 40670 | Diesel | Automatic | Second | 15.2 kmpl  | 1968 CC | 140.8 bhp | 5 | NA        | 17.74 |\n| 6 | Nissan Micra Diesel XV            | Jaipur     | 2013 | 86999 | Diesel | Manual    | First  | 23.08 kmpl | 1461 CC | 63.1 bhp  | 5 | NA        |  3.50 |\n| 7 | Toyota Innova Crysta 2.8 GX AT 8S | Mumbai     | 2016 | 36000 | Diesel | Automatic | First  | 11.36 kmpl | 2755 CC | 171.5 bhp | 8 | 21 Lakh   | 17.50 |\n\n",
            "text/latex": "A tibble: 6 × 14\n\\begin{tabular}{llllllllllllll}\n ...1 & Name & Location & Year & Kilometers\\_Driven & Fuel\\_Type & Transmission & Owner\\_Type & Mileage & Engine & Power & Seats & New\\_Price & Price\\\\\n <dbl> & <chr> & <chr> & <dbl> & <dbl> & <chr> & <chr> & <chr> & <chr> & <chr> & <chr> & <dbl> & <chr> & <dbl>\\\\\n\\hline\n\t 1 & Hyundai Creta 1.6 CRDi SX Option  & Pune       & 2015 & 41000 & Diesel & Manual    & First  & 19.67 kmpl & 1582 CC & 126.2 bhp & 5 & NA        & 12.50\\\\\n\t 2 & Honda Jazz V                      & Chennai    & 2011 & 46000 & Petrol & Manual    & First  & 13 km/kg   & 1199 CC & 88.7 bhp  & 5 & 8.61 Lakh &  4.50\\\\\n\t 3 & Maruti Ertiga VDI                 & Chennai    & 2012 & 87000 & Diesel & Manual    & First  & 20.77 kmpl & 1248 CC & 88.76 bhp & 7 & NA        &  6.00\\\\\n\t 4 & Audi A4 New 2.0 TDI Multitronic   & Coimbatore & 2013 & 40670 & Diesel & Automatic & Second & 15.2 kmpl  & 1968 CC & 140.8 bhp & 5 & NA        & 17.74\\\\\n\t 6 & Nissan Micra Diesel XV            & Jaipur     & 2013 & 86999 & Diesel & Manual    & First  & 23.08 kmpl & 1461 CC & 63.1 bhp  & 5 & NA        &  3.50\\\\\n\t 7 & Toyota Innova Crysta 2.8 GX AT 8S & Mumbai     & 2016 & 36000 & Diesel & Automatic & First  & 11.36 kmpl & 2755 CC & 171.5 bhp & 8 & 21 Lakh   & 17.50\\\\\n\\end{tabular}\n",
            "text/plain": [
              "  ...1 Name                              Location   Year Kilometers_Driven\n",
              "1 1    Hyundai Creta 1.6 CRDi SX Option  Pune       2015 41000            \n",
              "2 2    Honda Jazz V                      Chennai    2011 46000            \n",
              "3 3    Maruti Ertiga VDI                 Chennai    2012 87000            \n",
              "4 4    Audi A4 New 2.0 TDI Multitronic   Coimbatore 2013 40670            \n",
              "5 6    Nissan Micra Diesel XV            Jaipur     2013 86999            \n",
              "6 7    Toyota Innova Crysta 2.8 GX AT 8S Mumbai     2016 36000            \n",
              "  Fuel_Type Transmission Owner_Type Mileage    Engine  Power     Seats\n",
              "1 Diesel    Manual       First      19.67 kmpl 1582 CC 126.2 bhp 5    \n",
              "2 Petrol    Manual       First      13 km/kg   1199 CC 88.7 bhp  5    \n",
              "3 Diesel    Manual       First      20.77 kmpl 1248 CC 88.76 bhp 7    \n",
              "4 Diesel    Automatic    Second     15.2 kmpl  1968 CC 140.8 bhp 5    \n",
              "5 Diesel    Manual       First      23.08 kmpl 1461 CC 63.1 bhp  5    \n",
              "6 Diesel    Automatic    First      11.36 kmpl 2755 CC 171.5 bhp 8    \n",
              "  New_Price Price\n",
              "1 NA        12.50\n",
              "2 8.61 Lakh  4.50\n",
              "3 NA         6.00\n",
              "4 NA        17.74\n",
              "5 NA         3.50\n",
              "6 21 Lakh   17.50"
            ]
          },
          "metadata": {}
        }
      ]
    },
    {
      "cell_type": "markdown",
      "source": [
        "#b)  Removing Units from Columns"
      ],
      "metadata": {
        "id": "4_rMeO2mBz4G"
      }
    },
    {
      "cell_type": "code",
      "source": [
        "# Remove units and convert to numeric\n",
        "data$Mileage <- as.numeric(gsub(\" kmpl| km/kg\", \"\", data$Mileage))\n",
        "data$Engine <- as.numeric(gsub(\" CC\", \"\", data$Engine))\n",
        "data$Power <- as.numeric(gsub(\" bhp\", \"\", data$Power))\n",
        "head(data)"
      ],
      "metadata": {
        "colab": {
          "base_uri": "https://localhost:8080/",
          "height": 283
        },
        "id": "BdxyUaZVBlrC",
        "outputId": "da4c3059-7a09-45be-a047-3b8e9d4321dd"
      },
      "execution_count": 35,
      "outputs": [
        {
          "output_type": "display_data",
          "data": {
            "text/html": [
              "<table class=\"dataframe\">\n",
              "<caption>A tibble: 6 × 14</caption>\n",
              "<thead>\n",
              "\t<tr><th scope=col>...1</th><th scope=col>Name</th><th scope=col>Location</th><th scope=col>Year</th><th scope=col>Kilometers_Driven</th><th scope=col>Fuel_Type</th><th scope=col>Transmission</th><th scope=col>Owner_Type</th><th scope=col>Mileage</th><th scope=col>Engine</th><th scope=col>Power</th><th scope=col>Seats</th><th scope=col>New_Price</th><th scope=col>Price</th></tr>\n",
              "\t<tr><th scope=col>&lt;dbl&gt;</th><th scope=col>&lt;chr&gt;</th><th scope=col>&lt;chr&gt;</th><th scope=col>&lt;dbl&gt;</th><th scope=col>&lt;dbl&gt;</th><th scope=col>&lt;chr&gt;</th><th scope=col>&lt;chr&gt;</th><th scope=col>&lt;chr&gt;</th><th scope=col>&lt;dbl&gt;</th><th scope=col>&lt;dbl&gt;</th><th scope=col>&lt;dbl&gt;</th><th scope=col>&lt;dbl&gt;</th><th scope=col>&lt;chr&gt;</th><th scope=col>&lt;dbl&gt;</th></tr>\n",
              "</thead>\n",
              "<tbody>\n",
              "\t<tr><td>1</td><td>Hyundai Creta 1.6 CRDi SX Option </td><td>Pune      </td><td>2015</td><td>41000</td><td>Diesel</td><td>Manual   </td><td>First </td><td>19.67</td><td>1582</td><td>126.20</td><td>5</td><td>NA       </td><td>12.50</td></tr>\n",
              "\t<tr><td>2</td><td>Honda Jazz V                     </td><td>Chennai   </td><td>2011</td><td>46000</td><td>Petrol</td><td>Manual   </td><td>First </td><td>13.00</td><td>1199</td><td> 88.70</td><td>5</td><td>8.61 Lakh</td><td> 4.50</td></tr>\n",
              "\t<tr><td>3</td><td>Maruti Ertiga VDI                </td><td>Chennai   </td><td>2012</td><td>87000</td><td>Diesel</td><td>Manual   </td><td>First </td><td>20.77</td><td>1248</td><td> 88.76</td><td>7</td><td>NA       </td><td> 6.00</td></tr>\n",
              "\t<tr><td>4</td><td>Audi A4 New 2.0 TDI Multitronic  </td><td>Coimbatore</td><td>2013</td><td>40670</td><td>Diesel</td><td>Automatic</td><td>Second</td><td>15.20</td><td>1968</td><td>140.80</td><td>5</td><td>NA       </td><td>17.74</td></tr>\n",
              "\t<tr><td>6</td><td>Nissan Micra Diesel XV           </td><td>Jaipur    </td><td>2013</td><td>86999</td><td>Diesel</td><td>Manual   </td><td>First </td><td>23.08</td><td>1461</td><td> 63.10</td><td>5</td><td>NA       </td><td> 3.50</td></tr>\n",
              "\t<tr><td>7</td><td>Toyota Innova Crysta 2.8 GX AT 8S</td><td>Mumbai    </td><td>2016</td><td>36000</td><td>Diesel</td><td>Automatic</td><td>First </td><td>11.36</td><td>2755</td><td>171.50</td><td>8</td><td>21 Lakh  </td><td>17.50</td></tr>\n",
              "</tbody>\n",
              "</table>\n"
            ],
            "text/markdown": "\nA tibble: 6 × 14\n\n| ...1 &lt;dbl&gt; | Name &lt;chr&gt; | Location &lt;chr&gt; | Year &lt;dbl&gt; | Kilometers_Driven &lt;dbl&gt; | Fuel_Type &lt;chr&gt; | Transmission &lt;chr&gt; | Owner_Type &lt;chr&gt; | Mileage &lt;dbl&gt; | Engine &lt;dbl&gt; | Power &lt;dbl&gt; | Seats &lt;dbl&gt; | New_Price &lt;chr&gt; | Price &lt;dbl&gt; |\n|---|---|---|---|---|---|---|---|---|---|---|---|---|---|\n| 1 | Hyundai Creta 1.6 CRDi SX Option  | Pune       | 2015 | 41000 | Diesel | Manual    | First  | 19.67 | 1582 | 126.20 | 5 | NA        | 12.50 |\n| 2 | Honda Jazz V                      | Chennai    | 2011 | 46000 | Petrol | Manual    | First  | 13.00 | 1199 |  88.70 | 5 | 8.61 Lakh |  4.50 |\n| 3 | Maruti Ertiga VDI                 | Chennai    | 2012 | 87000 | Diesel | Manual    | First  | 20.77 | 1248 |  88.76 | 7 | NA        |  6.00 |\n| 4 | Audi A4 New 2.0 TDI Multitronic   | Coimbatore | 2013 | 40670 | Diesel | Automatic | Second | 15.20 | 1968 | 140.80 | 5 | NA        | 17.74 |\n| 6 | Nissan Micra Diesel XV            | Jaipur     | 2013 | 86999 | Diesel | Manual    | First  | 23.08 | 1461 |  63.10 | 5 | NA        |  3.50 |\n| 7 | Toyota Innova Crysta 2.8 GX AT 8S | Mumbai     | 2016 | 36000 | Diesel | Automatic | First  | 11.36 | 2755 | 171.50 | 8 | 21 Lakh   | 17.50 |\n\n",
            "text/latex": "A tibble: 6 × 14\n\\begin{tabular}{llllllllllllll}\n ...1 & Name & Location & Year & Kilometers\\_Driven & Fuel\\_Type & Transmission & Owner\\_Type & Mileage & Engine & Power & Seats & New\\_Price & Price\\\\\n <dbl> & <chr> & <chr> & <dbl> & <dbl> & <chr> & <chr> & <chr> & <dbl> & <dbl> & <dbl> & <dbl> & <chr> & <dbl>\\\\\n\\hline\n\t 1 & Hyundai Creta 1.6 CRDi SX Option  & Pune       & 2015 & 41000 & Diesel & Manual    & First  & 19.67 & 1582 & 126.20 & 5 & NA        & 12.50\\\\\n\t 2 & Honda Jazz V                      & Chennai    & 2011 & 46000 & Petrol & Manual    & First  & 13.00 & 1199 &  88.70 & 5 & 8.61 Lakh &  4.50\\\\\n\t 3 & Maruti Ertiga VDI                 & Chennai    & 2012 & 87000 & Diesel & Manual    & First  & 20.77 & 1248 &  88.76 & 7 & NA        &  6.00\\\\\n\t 4 & Audi A4 New 2.0 TDI Multitronic   & Coimbatore & 2013 & 40670 & Diesel & Automatic & Second & 15.20 & 1968 & 140.80 & 5 & NA        & 17.74\\\\\n\t 6 & Nissan Micra Diesel XV            & Jaipur     & 2013 & 86999 & Diesel & Manual    & First  & 23.08 & 1461 &  63.10 & 5 & NA        &  3.50\\\\\n\t 7 & Toyota Innova Crysta 2.8 GX AT 8S & Mumbai     & 2016 & 36000 & Diesel & Automatic & First  & 11.36 & 2755 & 171.50 & 8 & 21 Lakh   & 17.50\\\\\n\\end{tabular}\n",
            "text/plain": [
              "  ...1 Name                              Location   Year Kilometers_Driven\n",
              "1 1    Hyundai Creta 1.6 CRDi SX Option  Pune       2015 41000            \n",
              "2 2    Honda Jazz V                      Chennai    2011 46000            \n",
              "3 3    Maruti Ertiga VDI                 Chennai    2012 87000            \n",
              "4 4    Audi A4 New 2.0 TDI Multitronic   Coimbatore 2013 40670            \n",
              "5 6    Nissan Micra Diesel XV            Jaipur     2013 86999            \n",
              "6 7    Toyota Innova Crysta 2.8 GX AT 8S Mumbai     2016 36000            \n",
              "  Fuel_Type Transmission Owner_Type Mileage Engine Power  Seats New_Price Price\n",
              "1 Diesel    Manual       First      19.67   1582   126.20 5     NA        12.50\n",
              "2 Petrol    Manual       First      13.00   1199    88.70 5     8.61 Lakh  4.50\n",
              "3 Diesel    Manual       First      20.77   1248    88.76 7     NA         6.00\n",
              "4 Diesel    Automatic    Second     15.20   1968   140.80 5     NA        17.74\n",
              "5 Diesel    Manual       First      23.08   1461    63.10 5     NA         3.50\n",
              "6 Diesel    Automatic    First      11.36   2755   171.50 8     21 Lakh   17.50"
            ]
          },
          "metadata": {}
        }
      ]
    },
    {
      "cell_type": "markdown",
      "source": [
        "#a) Checking for Missing values, either impute or drop them and justify the action"
      ],
      "metadata": {
        "id": "e0nq_4WbB6Oa"
      }
    },
    {
      "cell_type": "code",
      "source": [
        "# Check for missing values in each column\n",
        "colSums(is.na(data))\n"
      ],
      "metadata": {
        "colab": {
          "base_uri": "https://localhost:8080/",
          "height": 51
        },
        "id": "i7LX9D8yB55A",
        "outputId": "53ec35a8-8cf0-4fb7-f0a5-8c306fdfc4f9"
      },
      "execution_count": 36,
      "outputs": [
        {
          "output_type": "display_data",
          "data": {
            "text/html": [
              "<style>\n",
              ".dl-inline {width: auto; margin:0; padding: 0}\n",
              ".dl-inline>dt, .dl-inline>dd {float: none; width: auto; display: inline-block}\n",
              ".dl-inline>dt::after {content: \":\\0020\"; padding-right: .5ex}\n",
              ".dl-inline>dt:not(:first-of-type) {padding-left: .5ex}\n",
              "</style><dl class=dl-inline><dt>...1</dt><dd>0</dd><dt>Name</dt><dd>0</dd><dt>Location</dt><dd>0</dd><dt>Year</dt><dd>0</dd><dt>Kilometers_Driven</dt><dd>0</dd><dt>Fuel_Type</dt><dd>0</dd><dt>Transmission</dt><dd>0</dd><dt>Owner_Type</dt><dd>0</dd><dt>Mileage</dt><dd>2</dd><dt>Engine</dt><dd>36</dd><dt>Power</dt><dd>36</dd><dt>Seats</dt><dd>38</dd><dt>New_Price</dt><dd>5032</dd><dt>Price</dt><dd>0</dd></dl>\n"
            ],
            "text/markdown": "...1\n:   0Name\n:   0Location\n:   0Year\n:   0Kilometers_Driven\n:   0Fuel_Type\n:   0Transmission\n:   0Owner_Type\n:   0Mileage\n:   2Engine\n:   36Power\n:   36Seats\n:   38New_Price\n:   5032Price\n:   0\n\n",
            "text/latex": "\\begin{description*}\n\\item[...1] 0\n\\item[Name] 0\n\\item[Location] 0\n\\item[Year] 0\n\\item[Kilometers\\textbackslash{}\\_Driven] 0\n\\item[Fuel\\textbackslash{}\\_Type] 0\n\\item[Transmission] 0\n\\item[Owner\\textbackslash{}\\_Type] 0\n\\item[Mileage] 2\n\\item[Engine] 36\n\\item[Power] 36\n\\item[Seats] 38\n\\item[New\\textbackslash{}\\_Price] 5032\n\\item[Price] 0\n\\end{description*}\n",
            "text/plain": [
              "             ...1              Name          Location              Year \n",
              "                0                 0                 0                 0 \n",
              "Kilometers_Driven         Fuel_Type      Transmission        Owner_Type \n",
              "                0                 0                 0                 0 \n",
              "          Mileage            Engine             Power             Seats \n",
              "                2                36                36                38 \n",
              "        New_Price             Price \n",
              "             5032                 0 "
            ]
          },
          "metadata": {}
        }
      ]
    },
    {
      "cell_type": "markdown",
      "source": [
        "**New_Price** has over 86% missing values, making it challenging to impute accurately without bias. Given the limited availability of data here, dropping this column is the most practical approach .\n",
        "\n",
        "**Mileage, Engine, Power, and Seats:**\n",
        "These columns have minimal missing values (all under 1% of total data).\n",
        "Since these are essential features for vehicle specifications, it’s more reasonable to impute missing values rather than discard them.\n",
        "replacing with mode for categorical-like columns (Seats which has a limited set of values) and median for numeric columns (Mileage, Engine, Power). Median is more robust to outliers than the mean, making it a good choice for these features.\n"
      ],
      "metadata": {
        "id": "vNYO7ckECZZ-"
      }
    },
    {
      "cell_type": "code",
      "source": [
        "data$New_Price <- NULL\n",
        "head(data)"
      ],
      "metadata": {
        "colab": {
          "base_uri": "https://localhost:8080/",
          "height": 283
        },
        "id": "0EdPXxNYCZyE",
        "outputId": "4fa23b86-e52a-4bfe-c838-8986118928de"
      },
      "execution_count": 37,
      "outputs": [
        {
          "output_type": "display_data",
          "data": {
            "text/html": [
              "<table class=\"dataframe\">\n",
              "<caption>A tibble: 6 × 13</caption>\n",
              "<thead>\n",
              "\t<tr><th scope=col>...1</th><th scope=col>Name</th><th scope=col>Location</th><th scope=col>Year</th><th scope=col>Kilometers_Driven</th><th scope=col>Fuel_Type</th><th scope=col>Transmission</th><th scope=col>Owner_Type</th><th scope=col>Mileage</th><th scope=col>Engine</th><th scope=col>Power</th><th scope=col>Seats</th><th scope=col>Price</th></tr>\n",
              "\t<tr><th scope=col>&lt;dbl&gt;</th><th scope=col>&lt;chr&gt;</th><th scope=col>&lt;chr&gt;</th><th scope=col>&lt;dbl&gt;</th><th scope=col>&lt;dbl&gt;</th><th scope=col>&lt;chr&gt;</th><th scope=col>&lt;chr&gt;</th><th scope=col>&lt;chr&gt;</th><th scope=col>&lt;dbl&gt;</th><th scope=col>&lt;dbl&gt;</th><th scope=col>&lt;dbl&gt;</th><th scope=col>&lt;dbl&gt;</th><th scope=col>&lt;dbl&gt;</th></tr>\n",
              "</thead>\n",
              "<tbody>\n",
              "\t<tr><td>1</td><td>Hyundai Creta 1.6 CRDi SX Option </td><td>Pune      </td><td>2015</td><td>41000</td><td>Diesel</td><td>Manual   </td><td>First </td><td>19.67</td><td>1582</td><td>126.20</td><td>5</td><td>12.50</td></tr>\n",
              "\t<tr><td>2</td><td>Honda Jazz V                     </td><td>Chennai   </td><td>2011</td><td>46000</td><td>Petrol</td><td>Manual   </td><td>First </td><td>13.00</td><td>1199</td><td> 88.70</td><td>5</td><td> 4.50</td></tr>\n",
              "\t<tr><td>3</td><td>Maruti Ertiga VDI                </td><td>Chennai   </td><td>2012</td><td>87000</td><td>Diesel</td><td>Manual   </td><td>First </td><td>20.77</td><td>1248</td><td> 88.76</td><td>7</td><td> 6.00</td></tr>\n",
              "\t<tr><td>4</td><td>Audi A4 New 2.0 TDI Multitronic  </td><td>Coimbatore</td><td>2013</td><td>40670</td><td>Diesel</td><td>Automatic</td><td>Second</td><td>15.20</td><td>1968</td><td>140.80</td><td>5</td><td>17.74</td></tr>\n",
              "\t<tr><td>6</td><td>Nissan Micra Diesel XV           </td><td>Jaipur    </td><td>2013</td><td>86999</td><td>Diesel</td><td>Manual   </td><td>First </td><td>23.08</td><td>1461</td><td> 63.10</td><td>5</td><td> 3.50</td></tr>\n",
              "\t<tr><td>7</td><td>Toyota Innova Crysta 2.8 GX AT 8S</td><td>Mumbai    </td><td>2016</td><td>36000</td><td>Diesel</td><td>Automatic</td><td>First </td><td>11.36</td><td>2755</td><td>171.50</td><td>8</td><td>17.50</td></tr>\n",
              "</tbody>\n",
              "</table>\n"
            ],
            "text/markdown": "\nA tibble: 6 × 13\n\n| ...1 &lt;dbl&gt; | Name &lt;chr&gt; | Location &lt;chr&gt; | Year &lt;dbl&gt; | Kilometers_Driven &lt;dbl&gt; | Fuel_Type &lt;chr&gt; | Transmission &lt;chr&gt; | Owner_Type &lt;chr&gt; | Mileage &lt;dbl&gt; | Engine &lt;dbl&gt; | Power &lt;dbl&gt; | Seats &lt;dbl&gt; | Price &lt;dbl&gt; |\n|---|---|---|---|---|---|---|---|---|---|---|---|---|\n| 1 | Hyundai Creta 1.6 CRDi SX Option  | Pune       | 2015 | 41000 | Diesel | Manual    | First  | 19.67 | 1582 | 126.20 | 5 | 12.50 |\n| 2 | Honda Jazz V                      | Chennai    | 2011 | 46000 | Petrol | Manual    | First  | 13.00 | 1199 |  88.70 | 5 |  4.50 |\n| 3 | Maruti Ertiga VDI                 | Chennai    | 2012 | 87000 | Diesel | Manual    | First  | 20.77 | 1248 |  88.76 | 7 |  6.00 |\n| 4 | Audi A4 New 2.0 TDI Multitronic   | Coimbatore | 2013 | 40670 | Diesel | Automatic | Second | 15.20 | 1968 | 140.80 | 5 | 17.74 |\n| 6 | Nissan Micra Diesel XV            | Jaipur     | 2013 | 86999 | Diesel | Manual    | First  | 23.08 | 1461 |  63.10 | 5 |  3.50 |\n| 7 | Toyota Innova Crysta 2.8 GX AT 8S | Mumbai     | 2016 | 36000 | Diesel | Automatic | First  | 11.36 | 2755 | 171.50 | 8 | 17.50 |\n\n",
            "text/latex": "A tibble: 6 × 13\n\\begin{tabular}{lllllllllllll}\n ...1 & Name & Location & Year & Kilometers\\_Driven & Fuel\\_Type & Transmission & Owner\\_Type & Mileage & Engine & Power & Seats & Price\\\\\n <dbl> & <chr> & <chr> & <dbl> & <dbl> & <chr> & <chr> & <chr> & <dbl> & <dbl> & <dbl> & <dbl> & <dbl>\\\\\n\\hline\n\t 1 & Hyundai Creta 1.6 CRDi SX Option  & Pune       & 2015 & 41000 & Diesel & Manual    & First  & 19.67 & 1582 & 126.20 & 5 & 12.50\\\\\n\t 2 & Honda Jazz V                      & Chennai    & 2011 & 46000 & Petrol & Manual    & First  & 13.00 & 1199 &  88.70 & 5 &  4.50\\\\\n\t 3 & Maruti Ertiga VDI                 & Chennai    & 2012 & 87000 & Diesel & Manual    & First  & 20.77 & 1248 &  88.76 & 7 &  6.00\\\\\n\t 4 & Audi A4 New 2.0 TDI Multitronic   & Coimbatore & 2013 & 40670 & Diesel & Automatic & Second & 15.20 & 1968 & 140.80 & 5 & 17.74\\\\\n\t 6 & Nissan Micra Diesel XV            & Jaipur     & 2013 & 86999 & Diesel & Manual    & First  & 23.08 & 1461 &  63.10 & 5 &  3.50\\\\\n\t 7 & Toyota Innova Crysta 2.8 GX AT 8S & Mumbai     & 2016 & 36000 & Diesel & Automatic & First  & 11.36 & 2755 & 171.50 & 8 & 17.50\\\\\n\\end{tabular}\n",
            "text/plain": [
              "  ...1 Name                              Location   Year Kilometers_Driven\n",
              "1 1    Hyundai Creta 1.6 CRDi SX Option  Pune       2015 41000            \n",
              "2 2    Honda Jazz V                      Chennai    2011 46000            \n",
              "3 3    Maruti Ertiga VDI                 Chennai    2012 87000            \n",
              "4 4    Audi A4 New 2.0 TDI Multitronic   Coimbatore 2013 40670            \n",
              "5 6    Nissan Micra Diesel XV            Jaipur     2013 86999            \n",
              "6 7    Toyota Innova Crysta 2.8 GX AT 8S Mumbai     2016 36000            \n",
              "  Fuel_Type Transmission Owner_Type Mileage Engine Power  Seats Price\n",
              "1 Diesel    Manual       First      19.67   1582   126.20 5     12.50\n",
              "2 Petrol    Manual       First      13.00   1199    88.70 5      4.50\n",
              "3 Diesel    Manual       First      20.77   1248    88.76 7      6.00\n",
              "4 Diesel    Automatic    Second     15.20   1968   140.80 5     17.74\n",
              "5 Diesel    Manual       First      23.08   1461    63.10 5      3.50\n",
              "6 Diesel    Automatic    First      11.36   2755   171.50 8     17.50"
            ]
          },
          "metadata": {}
        }
      ]
    },
    {
      "cell_type": "code",
      "source": [
        "# Define a custom Mode function\n",
        "Mode <- function(x) {\n",
        "  ux <- unique(x)\n",
        "  ux[which.max(tabulate(match(x, ux)))]\n",
        "}\n",
        "\n",
        "# Impute missing values\n",
        "data$Mileage[is.na(data$Mileage)] <- median(data$Mileage, na.rm = TRUE)\n",
        "data$Engine[is.na(data$Engine)] <- median(data$Engine, na.rm = TRUE)\n",
        "data$Power[is.na(data$Power)] <- median(data$Power, na.rm = TRUE)\n",
        "data$Seats[is.na(data$Seats)] <- Mode(data$Seats)\n",
        "\n",
        "colSums(is.na(data))"
      ],
      "metadata": {
        "colab": {
          "base_uri": "https://localhost:8080/",
          "height": 51
        },
        "id": "Vp_Na_F5CL8M",
        "outputId": "c443a59f-c3b4-4304-e336-44932c5addaf"
      },
      "execution_count": 38,
      "outputs": [
        {
          "output_type": "display_data",
          "data": {
            "text/html": [
              "<style>\n",
              ".dl-inline {width: auto; margin:0; padding: 0}\n",
              ".dl-inline>dt, .dl-inline>dd {float: none; width: auto; display: inline-block}\n",
              ".dl-inline>dt::after {content: \":\\0020\"; padding-right: .5ex}\n",
              ".dl-inline>dt:not(:first-of-type) {padding-left: .5ex}\n",
              "</style><dl class=dl-inline><dt>...1</dt><dd>0</dd><dt>Name</dt><dd>0</dd><dt>Location</dt><dd>0</dd><dt>Year</dt><dd>0</dd><dt>Kilometers_Driven</dt><dd>0</dd><dt>Fuel_Type</dt><dd>0</dd><dt>Transmission</dt><dd>0</dd><dt>Owner_Type</dt><dd>0</dd><dt>Mileage</dt><dd>0</dd><dt>Engine</dt><dd>0</dd><dt>Power</dt><dd>0</dd><dt>Seats</dt><dd>0</dd><dt>Price</dt><dd>0</dd></dl>\n"
            ],
            "text/markdown": "...1\n:   0Name\n:   0Location\n:   0Year\n:   0Kilometers_Driven\n:   0Fuel_Type\n:   0Transmission\n:   0Owner_Type\n:   0Mileage\n:   0Engine\n:   0Power\n:   0Seats\n:   0Price\n:   0\n\n",
            "text/latex": "\\begin{description*}\n\\item[...1] 0\n\\item[Name] 0\n\\item[Location] 0\n\\item[Year] 0\n\\item[Kilometers\\textbackslash{}\\_Driven] 0\n\\item[Fuel\\textbackslash{}\\_Type] 0\n\\item[Transmission] 0\n\\item[Owner\\textbackslash{}\\_Type] 0\n\\item[Mileage] 0\n\\item[Engine] 0\n\\item[Power] 0\n\\item[Seats] 0\n\\item[Price] 0\n\\end{description*}\n",
            "text/plain": [
              "             ...1              Name          Location              Year \n",
              "                0                 0                 0                 0 \n",
              "Kilometers_Driven         Fuel_Type      Transmission        Owner_Type \n",
              "                0                 0                 0                 0 \n",
              "          Mileage            Engine             Power             Seats \n",
              "                0                 0                 0                 0 \n",
              "            Price \n",
              "                0 "
            ]
          },
          "metadata": {}
        }
      ]
    },
    {
      "cell_type": "markdown",
      "source": [
        "#c) One-hot encoding"
      ],
      "metadata": {
        "id": "lkx5B1tbDwgr"
      }
    },
    {
      "cell_type": "code",
      "source": [
        "# Convert categorical variables to one-hot encoded columns\n",
        "data_cleaned <- cbind(data, model.matrix(~ Fuel_Type + Transmission-1, data = data))\n",
        "# Remove original categorical columns\n",
        "data_cleaned$Fuel_Type <- NULL\n",
        "data_cleaned$Transmission <- NULL\n",
        "head(data_cleaned)"
      ],
      "metadata": {
        "colab": {
          "base_uri": "https://localhost:8080/",
          "height": 524
        },
        "id": "-Y3r35thDwPU",
        "outputId": "8532548f-7bd9-4842-8440-c68b20473a35"
      },
      "execution_count": 39,
      "outputs": [
        {
          "output_type": "display_data",
          "data": {
            "text/html": [
              "<table class=\"dataframe\">\n",
              "<caption>A data.frame: 6 × 15</caption>\n",
              "<thead>\n",
              "\t<tr><th></th><th scope=col>...1</th><th scope=col>Name</th><th scope=col>Location</th><th scope=col>Year</th><th scope=col>Kilometers_Driven</th><th scope=col>Owner_Type</th><th scope=col>Mileage</th><th scope=col>Engine</th><th scope=col>Power</th><th scope=col>Seats</th><th scope=col>Price</th><th scope=col>Fuel_TypeDiesel</th><th scope=col>Fuel_TypeElectric</th><th scope=col>Fuel_TypePetrol</th><th scope=col>TransmissionManual</th></tr>\n",
              "\t<tr><th></th><th scope=col>&lt;dbl&gt;</th><th scope=col>&lt;chr&gt;</th><th scope=col>&lt;chr&gt;</th><th scope=col>&lt;dbl&gt;</th><th scope=col>&lt;dbl&gt;</th><th scope=col>&lt;chr&gt;</th><th scope=col>&lt;dbl&gt;</th><th scope=col>&lt;dbl&gt;</th><th scope=col>&lt;dbl&gt;</th><th scope=col>&lt;dbl&gt;</th><th scope=col>&lt;dbl&gt;</th><th scope=col>&lt;dbl&gt;</th><th scope=col>&lt;dbl&gt;</th><th scope=col>&lt;dbl&gt;</th><th scope=col>&lt;dbl&gt;</th></tr>\n",
              "</thead>\n",
              "<tbody>\n",
              "\t<tr><th scope=row>1</th><td>1</td><td>Hyundai Creta 1.6 CRDi SX Option </td><td>Pune      </td><td>2015</td><td>41000</td><td>First </td><td>19.67</td><td>1582</td><td>126.20</td><td>5</td><td>12.50</td><td>1</td><td>0</td><td>0</td><td>1</td></tr>\n",
              "\t<tr><th scope=row>2</th><td>2</td><td>Honda Jazz V                     </td><td>Chennai   </td><td>2011</td><td>46000</td><td>First </td><td>13.00</td><td>1199</td><td> 88.70</td><td>5</td><td> 4.50</td><td>0</td><td>0</td><td>1</td><td>1</td></tr>\n",
              "\t<tr><th scope=row>3</th><td>3</td><td>Maruti Ertiga VDI                </td><td>Chennai   </td><td>2012</td><td>87000</td><td>First </td><td>20.77</td><td>1248</td><td> 88.76</td><td>7</td><td> 6.00</td><td>1</td><td>0</td><td>0</td><td>1</td></tr>\n",
              "\t<tr><th scope=row>4</th><td>4</td><td>Audi A4 New 2.0 TDI Multitronic  </td><td>Coimbatore</td><td>2013</td><td>40670</td><td>Second</td><td>15.20</td><td>1968</td><td>140.80</td><td>5</td><td>17.74</td><td>1</td><td>0</td><td>0</td><td>0</td></tr>\n",
              "\t<tr><th scope=row>5</th><td>6</td><td>Nissan Micra Diesel XV           </td><td>Jaipur    </td><td>2013</td><td>86999</td><td>First </td><td>23.08</td><td>1461</td><td> 63.10</td><td>5</td><td> 3.50</td><td>1</td><td>0</td><td>0</td><td>1</td></tr>\n",
              "\t<tr><th scope=row>6</th><td>7</td><td>Toyota Innova Crysta 2.8 GX AT 8S</td><td>Mumbai    </td><td>2016</td><td>36000</td><td>First </td><td>11.36</td><td>2755</td><td>171.50</td><td>8</td><td>17.50</td><td>1</td><td>0</td><td>0</td><td>0</td></tr>\n",
              "</tbody>\n",
              "</table>\n"
            ],
            "text/markdown": "\nA data.frame: 6 × 15\n\n| <!--/--> | ...1 &lt;dbl&gt; | Name &lt;chr&gt; | Location &lt;chr&gt; | Year &lt;dbl&gt; | Kilometers_Driven &lt;dbl&gt; | Owner_Type &lt;chr&gt; | Mileage &lt;dbl&gt; | Engine &lt;dbl&gt; | Power &lt;dbl&gt; | Seats &lt;dbl&gt; | Price &lt;dbl&gt; | Fuel_TypeDiesel &lt;dbl&gt; | Fuel_TypeElectric &lt;dbl&gt; | Fuel_TypePetrol &lt;dbl&gt; | TransmissionManual &lt;dbl&gt; |\n|---|---|---|---|---|---|---|---|---|---|---|---|---|---|---|---|\n| 1 | 1 | Hyundai Creta 1.6 CRDi SX Option  | Pune       | 2015 | 41000 | First  | 19.67 | 1582 | 126.20 | 5 | 12.50 | 1 | 0 | 0 | 1 |\n| 2 | 2 | Honda Jazz V                      | Chennai    | 2011 | 46000 | First  | 13.00 | 1199 |  88.70 | 5 |  4.50 | 0 | 0 | 1 | 1 |\n| 3 | 3 | Maruti Ertiga VDI                 | Chennai    | 2012 | 87000 | First  | 20.77 | 1248 |  88.76 | 7 |  6.00 | 1 | 0 | 0 | 1 |\n| 4 | 4 | Audi A4 New 2.0 TDI Multitronic   | Coimbatore | 2013 | 40670 | Second | 15.20 | 1968 | 140.80 | 5 | 17.74 | 1 | 0 | 0 | 0 |\n| 5 | 6 | Nissan Micra Diesel XV            | Jaipur     | 2013 | 86999 | First  | 23.08 | 1461 |  63.10 | 5 |  3.50 | 1 | 0 | 0 | 1 |\n| 6 | 7 | Toyota Innova Crysta 2.8 GX AT 8S | Mumbai     | 2016 | 36000 | First  | 11.36 | 2755 | 171.50 | 8 | 17.50 | 1 | 0 | 0 | 0 |\n\n",
            "text/latex": "A data.frame: 6 × 15\n\\begin{tabular}{r|lllllllllllllll}\n  & ...1 & Name & Location & Year & Kilometers\\_Driven & Owner\\_Type & Mileage & Engine & Power & Seats & Price & Fuel\\_TypeDiesel & Fuel\\_TypeElectric & Fuel\\_TypePetrol & TransmissionManual\\\\\n  & <dbl> & <chr> & <chr> & <dbl> & <dbl> & <chr> & <dbl> & <dbl> & <dbl> & <dbl> & <dbl> & <dbl> & <dbl> & <dbl> & <dbl>\\\\\n\\hline\n\t1 & 1 & Hyundai Creta 1.6 CRDi SX Option  & Pune       & 2015 & 41000 & First  & 19.67 & 1582 & 126.20 & 5 & 12.50 & 1 & 0 & 0 & 1\\\\\n\t2 & 2 & Honda Jazz V                      & Chennai    & 2011 & 46000 & First  & 13.00 & 1199 &  88.70 & 5 &  4.50 & 0 & 0 & 1 & 1\\\\\n\t3 & 3 & Maruti Ertiga VDI                 & Chennai    & 2012 & 87000 & First  & 20.77 & 1248 &  88.76 & 7 &  6.00 & 1 & 0 & 0 & 1\\\\\n\t4 & 4 & Audi A4 New 2.0 TDI Multitronic   & Coimbatore & 2013 & 40670 & Second & 15.20 & 1968 & 140.80 & 5 & 17.74 & 1 & 0 & 0 & 0\\\\\n\t5 & 6 & Nissan Micra Diesel XV            & Jaipur     & 2013 & 86999 & First  & 23.08 & 1461 &  63.10 & 5 &  3.50 & 1 & 0 & 0 & 1\\\\\n\t6 & 7 & Toyota Innova Crysta 2.8 GX AT 8S & Mumbai     & 2016 & 36000 & First  & 11.36 & 2755 & 171.50 & 8 & 17.50 & 1 & 0 & 0 & 0\\\\\n\\end{tabular}\n",
            "text/plain": [
              "  ...1 Name                              Location   Year Kilometers_Driven\n",
              "1 1    Hyundai Creta 1.6 CRDi SX Option  Pune       2015 41000            \n",
              "2 2    Honda Jazz V                      Chennai    2011 46000            \n",
              "3 3    Maruti Ertiga VDI                 Chennai    2012 87000            \n",
              "4 4    Audi A4 New 2.0 TDI Multitronic   Coimbatore 2013 40670            \n",
              "5 6    Nissan Micra Diesel XV            Jaipur     2013 86999            \n",
              "6 7    Toyota Innova Crysta 2.8 GX AT 8S Mumbai     2016 36000            \n",
              "  Owner_Type Mileage Engine Power  Seats Price Fuel_TypeDiesel\n",
              "1 First      19.67   1582   126.20 5     12.50 1              \n",
              "2 First      13.00   1199    88.70 5      4.50 0              \n",
              "3 First      20.77   1248    88.76 7      6.00 1              \n",
              "4 Second     15.20   1968   140.80 5     17.74 1              \n",
              "5 First      23.08   1461    63.10 5      3.50 1              \n",
              "6 First      11.36   2755   171.50 8     17.50 1              \n",
              "  Fuel_TypeElectric Fuel_TypePetrol TransmissionManual\n",
              "1 0                 0               1                 \n",
              "2 0                 1               1                 \n",
              "3 0                 0               1                 \n",
              "4 0                 0               0                 \n",
              "5 0                 0               1                 \n",
              "6 0                 0               0                 "
            ]
          },
          "metadata": {}
        }
      ]
    },
    {
      "cell_type": "markdown",
      "source": [
        "# d)Creating new column using mutate\n"
      ],
      "metadata": {
        "id": "0qMsu7ijHQHt"
      }
    },
    {
      "cell_type": "code",
      "source": [
        "# Creating Kilometers_per_Year feature using mutate\n",
        "data_cleaned <- data_cleaned %>%\n",
        "  mutate(Kilometers_per_Year = Kilometers_Driven / (2024 - Year))\n",
        "head(data_cleaned)\n"
      ],
      "metadata": {
        "colab": {
          "base_uri": "https://localhost:8080/",
          "height": 524
        },
        "id": "HviLLUiYHYZ7",
        "outputId": "19e7f091-8685-4053-9d2b-3c2fee6befb0"
      },
      "execution_count": 40,
      "outputs": [
        {
          "output_type": "display_data",
          "data": {
            "text/html": [
              "<table class=\"dataframe\">\n",
              "<caption>A data.frame: 6 × 16</caption>\n",
              "<thead>\n",
              "\t<tr><th></th><th scope=col>...1</th><th scope=col>Name</th><th scope=col>Location</th><th scope=col>Year</th><th scope=col>Kilometers_Driven</th><th scope=col>Owner_Type</th><th scope=col>Mileage</th><th scope=col>Engine</th><th scope=col>Power</th><th scope=col>Seats</th><th scope=col>Price</th><th scope=col>Fuel_TypeDiesel</th><th scope=col>Fuel_TypeElectric</th><th scope=col>Fuel_TypePetrol</th><th scope=col>TransmissionManual</th><th scope=col>Kilometers_per_Year</th></tr>\n",
              "\t<tr><th></th><th scope=col>&lt;dbl&gt;</th><th scope=col>&lt;chr&gt;</th><th scope=col>&lt;chr&gt;</th><th scope=col>&lt;dbl&gt;</th><th scope=col>&lt;dbl&gt;</th><th scope=col>&lt;chr&gt;</th><th scope=col>&lt;dbl&gt;</th><th scope=col>&lt;dbl&gt;</th><th scope=col>&lt;dbl&gt;</th><th scope=col>&lt;dbl&gt;</th><th scope=col>&lt;dbl&gt;</th><th scope=col>&lt;dbl&gt;</th><th scope=col>&lt;dbl&gt;</th><th scope=col>&lt;dbl&gt;</th><th scope=col>&lt;dbl&gt;</th><th scope=col>&lt;dbl&gt;</th></tr>\n",
              "</thead>\n",
              "<tbody>\n",
              "\t<tr><th scope=row>1</th><td>1</td><td>Hyundai Creta 1.6 CRDi SX Option </td><td>Pune      </td><td>2015</td><td>41000</td><td>First </td><td>19.67</td><td>1582</td><td>126.20</td><td>5</td><td>12.50</td><td>1</td><td>0</td><td>0</td><td>1</td><td>4555.556</td></tr>\n",
              "\t<tr><th scope=row>2</th><td>2</td><td>Honda Jazz V                     </td><td>Chennai   </td><td>2011</td><td>46000</td><td>First </td><td>13.00</td><td>1199</td><td> 88.70</td><td>5</td><td> 4.50</td><td>0</td><td>0</td><td>1</td><td>1</td><td>3538.462</td></tr>\n",
              "\t<tr><th scope=row>3</th><td>3</td><td>Maruti Ertiga VDI                </td><td>Chennai   </td><td>2012</td><td>87000</td><td>First </td><td>20.77</td><td>1248</td><td> 88.76</td><td>7</td><td> 6.00</td><td>1</td><td>0</td><td>0</td><td>1</td><td>7250.000</td></tr>\n",
              "\t<tr><th scope=row>4</th><td>4</td><td>Audi A4 New 2.0 TDI Multitronic  </td><td>Coimbatore</td><td>2013</td><td>40670</td><td>Second</td><td>15.20</td><td>1968</td><td>140.80</td><td>5</td><td>17.74</td><td>1</td><td>0</td><td>0</td><td>0</td><td>3697.273</td></tr>\n",
              "\t<tr><th scope=row>5</th><td>6</td><td>Nissan Micra Diesel XV           </td><td>Jaipur    </td><td>2013</td><td>86999</td><td>First </td><td>23.08</td><td>1461</td><td> 63.10</td><td>5</td><td> 3.50</td><td>1</td><td>0</td><td>0</td><td>1</td><td>7909.000</td></tr>\n",
              "\t<tr><th scope=row>6</th><td>7</td><td>Toyota Innova Crysta 2.8 GX AT 8S</td><td>Mumbai    </td><td>2016</td><td>36000</td><td>First </td><td>11.36</td><td>2755</td><td>171.50</td><td>8</td><td>17.50</td><td>1</td><td>0</td><td>0</td><td>0</td><td>4500.000</td></tr>\n",
              "</tbody>\n",
              "</table>\n"
            ],
            "text/markdown": "\nA data.frame: 6 × 16\n\n| <!--/--> | ...1 &lt;dbl&gt; | Name &lt;chr&gt; | Location &lt;chr&gt; | Year &lt;dbl&gt; | Kilometers_Driven &lt;dbl&gt; | Owner_Type &lt;chr&gt; | Mileage &lt;dbl&gt; | Engine &lt;dbl&gt; | Power &lt;dbl&gt; | Seats &lt;dbl&gt; | Price &lt;dbl&gt; | Fuel_TypeDiesel &lt;dbl&gt; | Fuel_TypeElectric &lt;dbl&gt; | Fuel_TypePetrol &lt;dbl&gt; | TransmissionManual &lt;dbl&gt; | Kilometers_per_Year &lt;dbl&gt; |\n|---|---|---|---|---|---|---|---|---|---|---|---|---|---|---|---|---|\n| 1 | 1 | Hyundai Creta 1.6 CRDi SX Option  | Pune       | 2015 | 41000 | First  | 19.67 | 1582 | 126.20 | 5 | 12.50 | 1 | 0 | 0 | 1 | 4555.556 |\n| 2 | 2 | Honda Jazz V                      | Chennai    | 2011 | 46000 | First  | 13.00 | 1199 |  88.70 | 5 |  4.50 | 0 | 0 | 1 | 1 | 3538.462 |\n| 3 | 3 | Maruti Ertiga VDI                 | Chennai    | 2012 | 87000 | First  | 20.77 | 1248 |  88.76 | 7 |  6.00 | 1 | 0 | 0 | 1 | 7250.000 |\n| 4 | 4 | Audi A4 New 2.0 TDI Multitronic   | Coimbatore | 2013 | 40670 | Second | 15.20 | 1968 | 140.80 | 5 | 17.74 | 1 | 0 | 0 | 0 | 3697.273 |\n| 5 | 6 | Nissan Micra Diesel XV            | Jaipur     | 2013 | 86999 | First  | 23.08 | 1461 |  63.10 | 5 |  3.50 | 1 | 0 | 0 | 1 | 7909.000 |\n| 6 | 7 | Toyota Innova Crysta 2.8 GX AT 8S | Mumbai     | 2016 | 36000 | First  | 11.36 | 2755 | 171.50 | 8 | 17.50 | 1 | 0 | 0 | 0 | 4500.000 |\n\n",
            "text/latex": "A data.frame: 6 × 16\n\\begin{tabular}{r|llllllllllllllll}\n  & ...1 & Name & Location & Year & Kilometers\\_Driven & Owner\\_Type & Mileage & Engine & Power & Seats & Price & Fuel\\_TypeDiesel & Fuel\\_TypeElectric & Fuel\\_TypePetrol & TransmissionManual & Kilometers\\_per\\_Year\\\\\n  & <dbl> & <chr> & <chr> & <dbl> & <dbl> & <chr> & <dbl> & <dbl> & <dbl> & <dbl> & <dbl> & <dbl> & <dbl> & <dbl> & <dbl> & <dbl>\\\\\n\\hline\n\t1 & 1 & Hyundai Creta 1.6 CRDi SX Option  & Pune       & 2015 & 41000 & First  & 19.67 & 1582 & 126.20 & 5 & 12.50 & 1 & 0 & 0 & 1 & 4555.556\\\\\n\t2 & 2 & Honda Jazz V                      & Chennai    & 2011 & 46000 & First  & 13.00 & 1199 &  88.70 & 5 &  4.50 & 0 & 0 & 1 & 1 & 3538.462\\\\\n\t3 & 3 & Maruti Ertiga VDI                 & Chennai    & 2012 & 87000 & First  & 20.77 & 1248 &  88.76 & 7 &  6.00 & 1 & 0 & 0 & 1 & 7250.000\\\\\n\t4 & 4 & Audi A4 New 2.0 TDI Multitronic   & Coimbatore & 2013 & 40670 & Second & 15.20 & 1968 & 140.80 & 5 & 17.74 & 1 & 0 & 0 & 0 & 3697.273\\\\\n\t5 & 6 & Nissan Micra Diesel XV            & Jaipur     & 2013 & 86999 & First  & 23.08 & 1461 &  63.10 & 5 &  3.50 & 1 & 0 & 0 & 1 & 7909.000\\\\\n\t6 & 7 & Toyota Innova Crysta 2.8 GX AT 8S & Mumbai     & 2016 & 36000 & First  & 11.36 & 2755 & 171.50 & 8 & 17.50 & 1 & 0 & 0 & 0 & 4500.000\\\\\n\\end{tabular}\n",
            "text/plain": [
              "  ...1 Name                              Location   Year Kilometers_Driven\n",
              "1 1    Hyundai Creta 1.6 CRDi SX Option  Pune       2015 41000            \n",
              "2 2    Honda Jazz V                      Chennai    2011 46000            \n",
              "3 3    Maruti Ertiga VDI                 Chennai    2012 87000            \n",
              "4 4    Audi A4 New 2.0 TDI Multitronic   Coimbatore 2013 40670            \n",
              "5 6    Nissan Micra Diesel XV            Jaipur     2013 86999            \n",
              "6 7    Toyota Innova Crysta 2.8 GX AT 8S Mumbai     2016 36000            \n",
              "  Owner_Type Mileage Engine Power  Seats Price Fuel_TypeDiesel\n",
              "1 First      19.67   1582   126.20 5     12.50 1              \n",
              "2 First      13.00   1199    88.70 5      4.50 0              \n",
              "3 First      20.77   1248    88.76 7      6.00 1              \n",
              "4 Second     15.20   1968   140.80 5     17.74 1              \n",
              "5 First      23.08   1461    63.10 5      3.50 1              \n",
              "6 First      11.36   2755   171.50 8     17.50 1              \n",
              "  Fuel_TypeElectric Fuel_TypePetrol TransmissionManual Kilometers_per_Year\n",
              "1 0                 0               1                  4555.556           \n",
              "2 0                 1               1                  3538.462           \n",
              "3 0                 0               1                  7250.000           \n",
              "4 0                 0               0                  3697.273           \n",
              "5 0                 0               1                  7909.000           \n",
              "6 0                 0               0                  4500.000           "
            ]
          },
          "metadata": {}
        }
      ]
    },
    {
      "cell_type": "markdown",
      "source": [
        "# e) select, filter, rename, mutate, arrange and summarize with group by operations"
      ],
      "metadata": {
        "id": "MHa8QG0SLRi0"
      }
    },
    {
      "cell_type": "code",
      "source": [
        "# Select specific columns\n",
        "selected_data <- data %>%\n",
        "  select(Name, Location, Year, Kilometers_Driven, Price)\n",
        "\n",
        "head(selected_data)\n"
      ],
      "metadata": {
        "colab": {
          "base_uri": "https://localhost:8080/",
          "height": 283
        },
        "id": "_aJU7jpqJiI2",
        "outputId": "1b50daf1-7a4e-43e4-b2d2-01fe8e3986e1"
      },
      "execution_count": 41,
      "outputs": [
        {
          "output_type": "display_data",
          "data": {
            "text/html": [
              "<table class=\"dataframe\">\n",
              "<caption>A tibble: 6 × 5</caption>\n",
              "<thead>\n",
              "\t<tr><th scope=col>Name</th><th scope=col>Location</th><th scope=col>Year</th><th scope=col>Kilometers_Driven</th><th scope=col>Price</th></tr>\n",
              "\t<tr><th scope=col>&lt;chr&gt;</th><th scope=col>&lt;chr&gt;</th><th scope=col>&lt;dbl&gt;</th><th scope=col>&lt;dbl&gt;</th><th scope=col>&lt;dbl&gt;</th></tr>\n",
              "</thead>\n",
              "<tbody>\n",
              "\t<tr><td>Hyundai Creta 1.6 CRDi SX Option </td><td>Pune      </td><td>2015</td><td>41000</td><td>12.50</td></tr>\n",
              "\t<tr><td>Honda Jazz V                     </td><td>Chennai   </td><td>2011</td><td>46000</td><td> 4.50</td></tr>\n",
              "\t<tr><td>Maruti Ertiga VDI                </td><td>Chennai   </td><td>2012</td><td>87000</td><td> 6.00</td></tr>\n",
              "\t<tr><td>Audi A4 New 2.0 TDI Multitronic  </td><td>Coimbatore</td><td>2013</td><td>40670</td><td>17.74</td></tr>\n",
              "\t<tr><td>Nissan Micra Diesel XV           </td><td>Jaipur    </td><td>2013</td><td>86999</td><td> 3.50</td></tr>\n",
              "\t<tr><td>Toyota Innova Crysta 2.8 GX AT 8S</td><td>Mumbai    </td><td>2016</td><td>36000</td><td>17.50</td></tr>\n",
              "</tbody>\n",
              "</table>\n"
            ],
            "text/markdown": "\nA tibble: 6 × 5\n\n| Name &lt;chr&gt; | Location &lt;chr&gt; | Year &lt;dbl&gt; | Kilometers_Driven &lt;dbl&gt; | Price &lt;dbl&gt; |\n|---|---|---|---|---|\n| Hyundai Creta 1.6 CRDi SX Option  | Pune       | 2015 | 41000 | 12.50 |\n| Honda Jazz V                      | Chennai    | 2011 | 46000 |  4.50 |\n| Maruti Ertiga VDI                 | Chennai    | 2012 | 87000 |  6.00 |\n| Audi A4 New 2.0 TDI Multitronic   | Coimbatore | 2013 | 40670 | 17.74 |\n| Nissan Micra Diesel XV            | Jaipur     | 2013 | 86999 |  3.50 |\n| Toyota Innova Crysta 2.8 GX AT 8S | Mumbai     | 2016 | 36000 | 17.50 |\n\n",
            "text/latex": "A tibble: 6 × 5\n\\begin{tabular}{lllll}\n Name & Location & Year & Kilometers\\_Driven & Price\\\\\n <chr> & <chr> & <dbl> & <dbl> & <dbl>\\\\\n\\hline\n\t Hyundai Creta 1.6 CRDi SX Option  & Pune       & 2015 & 41000 & 12.50\\\\\n\t Honda Jazz V                      & Chennai    & 2011 & 46000 &  4.50\\\\\n\t Maruti Ertiga VDI                 & Chennai    & 2012 & 87000 &  6.00\\\\\n\t Audi A4 New 2.0 TDI Multitronic   & Coimbatore & 2013 & 40670 & 17.74\\\\\n\t Nissan Micra Diesel XV            & Jaipur     & 2013 & 86999 &  3.50\\\\\n\t Toyota Innova Crysta 2.8 GX AT 8S & Mumbai     & 2016 & 36000 & 17.50\\\\\n\\end{tabular}\n",
            "text/plain": [
              "  Name                              Location   Year Kilometers_Driven Price\n",
              "1 Hyundai Creta 1.6 CRDi SX Option  Pune       2015 41000             12.50\n",
              "2 Honda Jazz V                      Chennai    2011 46000              4.50\n",
              "3 Maruti Ertiga VDI                 Chennai    2012 87000              6.00\n",
              "4 Audi A4 New 2.0 TDI Multitronic   Coimbatore 2013 40670             17.74\n",
              "5 Nissan Micra Diesel XV            Jaipur     2013 86999              3.50\n",
              "6 Toyota Innova Crysta 2.8 GX AT 8S Mumbai     2016 36000             17.50"
            ]
          },
          "metadata": {}
        }
      ]
    },
    {
      "cell_type": "code",
      "source": [
        "# Filter rows where the price is greater than a certain amount\n",
        "filtered_data <- data %>%\n",
        "  filter(Price > 10)\n",
        "\n",
        "head(filtered_data)"
      ],
      "metadata": {
        "colab": {
          "base_uri": "https://localhost:8080/",
          "height": 283
        },
        "id": "S37DL8nnLfk3",
        "outputId": "dee78f0c-c55d-43b3-f533-1016dcb6c383"
      },
      "execution_count": 42,
      "outputs": [
        {
          "output_type": "display_data",
          "data": {
            "text/html": [
              "<table class=\"dataframe\">\n",
              "<caption>A tibble: 6 × 13</caption>\n",
              "<thead>\n",
              "\t<tr><th scope=col>...1</th><th scope=col>Name</th><th scope=col>Location</th><th scope=col>Year</th><th scope=col>Kilometers_Driven</th><th scope=col>Fuel_Type</th><th scope=col>Transmission</th><th scope=col>Owner_Type</th><th scope=col>Mileage</th><th scope=col>Engine</th><th scope=col>Power</th><th scope=col>Seats</th><th scope=col>Price</th></tr>\n",
              "\t<tr><th scope=col>&lt;dbl&gt;</th><th scope=col>&lt;chr&gt;</th><th scope=col>&lt;chr&gt;</th><th scope=col>&lt;dbl&gt;</th><th scope=col>&lt;dbl&gt;</th><th scope=col>&lt;chr&gt;</th><th scope=col>&lt;chr&gt;</th><th scope=col>&lt;chr&gt;</th><th scope=col>&lt;dbl&gt;</th><th scope=col>&lt;dbl&gt;</th><th scope=col>&lt;dbl&gt;</th><th scope=col>&lt;dbl&gt;</th><th scope=col>&lt;dbl&gt;</th></tr>\n",
              "</thead>\n",
              "<tbody>\n",
              "\t<tr><td> 1</td><td>Hyundai Creta 1.6 CRDi SX Option </td><td>Pune      </td><td>2015</td><td> 41000</td><td>Diesel</td><td>Manual   </td><td>First </td><td>19.67</td><td>1582</td><td>126.20</td><td>5</td><td>12.50</td></tr>\n",
              "\t<tr><td> 4</td><td>Audi A4 New 2.0 TDI Multitronic  </td><td>Coimbatore</td><td>2013</td><td> 40670</td><td>Diesel</td><td>Automatic</td><td>Second</td><td>15.20</td><td>1968</td><td>140.80</td><td>5</td><td>17.74</td></tr>\n",
              "\t<tr><td> 7</td><td>Toyota Innova Crysta 2.8 GX AT 8S</td><td>Mumbai    </td><td>2016</td><td> 36000</td><td>Diesel</td><td>Automatic</td><td>First </td><td>11.36</td><td>2755</td><td>171.50</td><td>8</td><td>17.50</td></tr>\n",
              "\t<tr><td>13</td><td>Land Rover Range Rover 2.2L Pure </td><td>Delhi     </td><td>2014</td><td> 72000</td><td>Diesel</td><td>Automatic</td><td>First </td><td>12.70</td><td>2179</td><td>187.70</td><td>5</td><td>27.00</td></tr>\n",
              "\t<tr><td>14</td><td>Land Rover Freelander 2 TD4 SE   </td><td>Pune      </td><td>2012</td><td> 85000</td><td>Diesel</td><td>Automatic</td><td>Second</td><td> 0.00</td><td>2179</td><td>115.00</td><td>5</td><td>17.50</td></tr>\n",
              "\t<tr><td>15</td><td>Mitsubishi Pajero Sport 4X4      </td><td>Delhi     </td><td>2014</td><td>110000</td><td>Diesel</td><td>Manual   </td><td>First </td><td>13.50</td><td>2477</td><td>175.56</td><td>7</td><td>15.00</td></tr>\n",
              "</tbody>\n",
              "</table>\n"
            ],
            "text/markdown": "\nA tibble: 6 × 13\n\n| ...1 &lt;dbl&gt; | Name &lt;chr&gt; | Location &lt;chr&gt; | Year &lt;dbl&gt; | Kilometers_Driven &lt;dbl&gt; | Fuel_Type &lt;chr&gt; | Transmission &lt;chr&gt; | Owner_Type &lt;chr&gt; | Mileage &lt;dbl&gt; | Engine &lt;dbl&gt; | Power &lt;dbl&gt; | Seats &lt;dbl&gt; | Price &lt;dbl&gt; |\n|---|---|---|---|---|---|---|---|---|---|---|---|---|\n|  1 | Hyundai Creta 1.6 CRDi SX Option  | Pune       | 2015 |  41000 | Diesel | Manual    | First  | 19.67 | 1582 | 126.20 | 5 | 12.50 |\n|  4 | Audi A4 New 2.0 TDI Multitronic   | Coimbatore | 2013 |  40670 | Diesel | Automatic | Second | 15.20 | 1968 | 140.80 | 5 | 17.74 |\n|  7 | Toyota Innova Crysta 2.8 GX AT 8S | Mumbai     | 2016 |  36000 | Diesel | Automatic | First  | 11.36 | 2755 | 171.50 | 8 | 17.50 |\n| 13 | Land Rover Range Rover 2.2L Pure  | Delhi      | 2014 |  72000 | Diesel | Automatic | First  | 12.70 | 2179 | 187.70 | 5 | 27.00 |\n| 14 | Land Rover Freelander 2 TD4 SE    | Pune       | 2012 |  85000 | Diesel | Automatic | Second |  0.00 | 2179 | 115.00 | 5 | 17.50 |\n| 15 | Mitsubishi Pajero Sport 4X4       | Delhi      | 2014 | 110000 | Diesel | Manual    | First  | 13.50 | 2477 | 175.56 | 7 | 15.00 |\n\n",
            "text/latex": "A tibble: 6 × 13\n\\begin{tabular}{lllllllllllll}\n ...1 & Name & Location & Year & Kilometers\\_Driven & Fuel\\_Type & Transmission & Owner\\_Type & Mileage & Engine & Power & Seats & Price\\\\\n <dbl> & <chr> & <chr> & <dbl> & <dbl> & <chr> & <chr> & <chr> & <dbl> & <dbl> & <dbl> & <dbl> & <dbl>\\\\\n\\hline\n\t  1 & Hyundai Creta 1.6 CRDi SX Option  & Pune       & 2015 &  41000 & Diesel & Manual    & First  & 19.67 & 1582 & 126.20 & 5 & 12.50\\\\\n\t  4 & Audi A4 New 2.0 TDI Multitronic   & Coimbatore & 2013 &  40670 & Diesel & Automatic & Second & 15.20 & 1968 & 140.80 & 5 & 17.74\\\\\n\t  7 & Toyota Innova Crysta 2.8 GX AT 8S & Mumbai     & 2016 &  36000 & Diesel & Automatic & First  & 11.36 & 2755 & 171.50 & 8 & 17.50\\\\\n\t 13 & Land Rover Range Rover 2.2L Pure  & Delhi      & 2014 &  72000 & Diesel & Automatic & First  & 12.70 & 2179 & 187.70 & 5 & 27.00\\\\\n\t 14 & Land Rover Freelander 2 TD4 SE    & Pune       & 2012 &  85000 & Diesel & Automatic & Second &  0.00 & 2179 & 115.00 & 5 & 17.50\\\\\n\t 15 & Mitsubishi Pajero Sport 4X4       & Delhi      & 2014 & 110000 & Diesel & Manual    & First  & 13.50 & 2477 & 175.56 & 7 & 15.00\\\\\n\\end{tabular}\n",
            "text/plain": [
              "  ...1 Name                              Location   Year Kilometers_Driven\n",
              "1  1   Hyundai Creta 1.6 CRDi SX Option  Pune       2015  41000           \n",
              "2  4   Audi A4 New 2.0 TDI Multitronic   Coimbatore 2013  40670           \n",
              "3  7   Toyota Innova Crysta 2.8 GX AT 8S Mumbai     2016  36000           \n",
              "4 13   Land Rover Range Rover 2.2L Pure  Delhi      2014  72000           \n",
              "5 14   Land Rover Freelander 2 TD4 SE    Pune       2012  85000           \n",
              "6 15   Mitsubishi Pajero Sport 4X4       Delhi      2014 110000           \n",
              "  Fuel_Type Transmission Owner_Type Mileage Engine Power  Seats Price\n",
              "1 Diesel    Manual       First      19.67   1582   126.20 5     12.50\n",
              "2 Diesel    Automatic    Second     15.20   1968   140.80 5     17.74\n",
              "3 Diesel    Automatic    First      11.36   2755   171.50 8     17.50\n",
              "4 Diesel    Automatic    First      12.70   2179   187.70 5     27.00\n",
              "5 Diesel    Automatic    Second      0.00   2179   115.00 5     17.50\n",
              "6 Diesel    Manual       First      13.50   2477   175.56 7     15.00"
            ]
          },
          "metadata": {}
        }
      ]
    },
    {
      "cell_type": "code",
      "source": [
        "# Rename columns for clarity\n",
        "renamed_data <- data %>%\n",
        "  rename(Engine_Power = Power, Car_Year = Year)\n",
        "head(renamed_data)"
      ],
      "metadata": {
        "colab": {
          "base_uri": "https://localhost:8080/",
          "height": 283
        },
        "id": "eLmmGM8HLpe7",
        "outputId": "b6cc9593-ba89-4362-a165-2943c9cfa3f4"
      },
      "execution_count": 43,
      "outputs": [
        {
          "output_type": "display_data",
          "data": {
            "text/html": [
              "<table class=\"dataframe\">\n",
              "<caption>A tibble: 6 × 13</caption>\n",
              "<thead>\n",
              "\t<tr><th scope=col>...1</th><th scope=col>Name</th><th scope=col>Location</th><th scope=col>Car_Year</th><th scope=col>Kilometers_Driven</th><th scope=col>Fuel_Type</th><th scope=col>Transmission</th><th scope=col>Owner_Type</th><th scope=col>Mileage</th><th scope=col>Engine</th><th scope=col>Engine_Power</th><th scope=col>Seats</th><th scope=col>Price</th></tr>\n",
              "\t<tr><th scope=col>&lt;dbl&gt;</th><th scope=col>&lt;chr&gt;</th><th scope=col>&lt;chr&gt;</th><th scope=col>&lt;dbl&gt;</th><th scope=col>&lt;dbl&gt;</th><th scope=col>&lt;chr&gt;</th><th scope=col>&lt;chr&gt;</th><th scope=col>&lt;chr&gt;</th><th scope=col>&lt;dbl&gt;</th><th scope=col>&lt;dbl&gt;</th><th scope=col>&lt;dbl&gt;</th><th scope=col>&lt;dbl&gt;</th><th scope=col>&lt;dbl&gt;</th></tr>\n",
              "</thead>\n",
              "<tbody>\n",
              "\t<tr><td>1</td><td>Hyundai Creta 1.6 CRDi SX Option </td><td>Pune      </td><td>2015</td><td>41000</td><td>Diesel</td><td>Manual   </td><td>First </td><td>19.67</td><td>1582</td><td>126.20</td><td>5</td><td>12.50</td></tr>\n",
              "\t<tr><td>2</td><td>Honda Jazz V                     </td><td>Chennai   </td><td>2011</td><td>46000</td><td>Petrol</td><td>Manual   </td><td>First </td><td>13.00</td><td>1199</td><td> 88.70</td><td>5</td><td> 4.50</td></tr>\n",
              "\t<tr><td>3</td><td>Maruti Ertiga VDI                </td><td>Chennai   </td><td>2012</td><td>87000</td><td>Diesel</td><td>Manual   </td><td>First </td><td>20.77</td><td>1248</td><td> 88.76</td><td>7</td><td> 6.00</td></tr>\n",
              "\t<tr><td>4</td><td>Audi A4 New 2.0 TDI Multitronic  </td><td>Coimbatore</td><td>2013</td><td>40670</td><td>Diesel</td><td>Automatic</td><td>Second</td><td>15.20</td><td>1968</td><td>140.80</td><td>5</td><td>17.74</td></tr>\n",
              "\t<tr><td>6</td><td>Nissan Micra Diesel XV           </td><td>Jaipur    </td><td>2013</td><td>86999</td><td>Diesel</td><td>Manual   </td><td>First </td><td>23.08</td><td>1461</td><td> 63.10</td><td>5</td><td> 3.50</td></tr>\n",
              "\t<tr><td>7</td><td>Toyota Innova Crysta 2.8 GX AT 8S</td><td>Mumbai    </td><td>2016</td><td>36000</td><td>Diesel</td><td>Automatic</td><td>First </td><td>11.36</td><td>2755</td><td>171.50</td><td>8</td><td>17.50</td></tr>\n",
              "</tbody>\n",
              "</table>\n"
            ],
            "text/markdown": "\nA tibble: 6 × 13\n\n| ...1 &lt;dbl&gt; | Name &lt;chr&gt; | Location &lt;chr&gt; | Car_Year &lt;dbl&gt; | Kilometers_Driven &lt;dbl&gt; | Fuel_Type &lt;chr&gt; | Transmission &lt;chr&gt; | Owner_Type &lt;chr&gt; | Mileage &lt;dbl&gt; | Engine &lt;dbl&gt; | Engine_Power &lt;dbl&gt; | Seats &lt;dbl&gt; | Price &lt;dbl&gt; |\n|---|---|---|---|---|---|---|---|---|---|---|---|---|\n| 1 | Hyundai Creta 1.6 CRDi SX Option  | Pune       | 2015 | 41000 | Diesel | Manual    | First  | 19.67 | 1582 | 126.20 | 5 | 12.50 |\n| 2 | Honda Jazz V                      | Chennai    | 2011 | 46000 | Petrol | Manual    | First  | 13.00 | 1199 |  88.70 | 5 |  4.50 |\n| 3 | Maruti Ertiga VDI                 | Chennai    | 2012 | 87000 | Diesel | Manual    | First  | 20.77 | 1248 |  88.76 | 7 |  6.00 |\n| 4 | Audi A4 New 2.0 TDI Multitronic   | Coimbatore | 2013 | 40670 | Diesel | Automatic | Second | 15.20 | 1968 | 140.80 | 5 | 17.74 |\n| 6 | Nissan Micra Diesel XV            | Jaipur     | 2013 | 86999 | Diesel | Manual    | First  | 23.08 | 1461 |  63.10 | 5 |  3.50 |\n| 7 | Toyota Innova Crysta 2.8 GX AT 8S | Mumbai     | 2016 | 36000 | Diesel | Automatic | First  | 11.36 | 2755 | 171.50 | 8 | 17.50 |\n\n",
            "text/latex": "A tibble: 6 × 13\n\\begin{tabular}{lllllllllllll}\n ...1 & Name & Location & Car\\_Year & Kilometers\\_Driven & Fuel\\_Type & Transmission & Owner\\_Type & Mileage & Engine & Engine\\_Power & Seats & Price\\\\\n <dbl> & <chr> & <chr> & <dbl> & <dbl> & <chr> & <chr> & <chr> & <dbl> & <dbl> & <dbl> & <dbl> & <dbl>\\\\\n\\hline\n\t 1 & Hyundai Creta 1.6 CRDi SX Option  & Pune       & 2015 & 41000 & Diesel & Manual    & First  & 19.67 & 1582 & 126.20 & 5 & 12.50\\\\\n\t 2 & Honda Jazz V                      & Chennai    & 2011 & 46000 & Petrol & Manual    & First  & 13.00 & 1199 &  88.70 & 5 &  4.50\\\\\n\t 3 & Maruti Ertiga VDI                 & Chennai    & 2012 & 87000 & Diesel & Manual    & First  & 20.77 & 1248 &  88.76 & 7 &  6.00\\\\\n\t 4 & Audi A4 New 2.0 TDI Multitronic   & Coimbatore & 2013 & 40670 & Diesel & Automatic & Second & 15.20 & 1968 & 140.80 & 5 & 17.74\\\\\n\t 6 & Nissan Micra Diesel XV            & Jaipur     & 2013 & 86999 & Diesel & Manual    & First  & 23.08 & 1461 &  63.10 & 5 &  3.50\\\\\n\t 7 & Toyota Innova Crysta 2.8 GX AT 8S & Mumbai     & 2016 & 36000 & Diesel & Automatic & First  & 11.36 & 2755 & 171.50 & 8 & 17.50\\\\\n\\end{tabular}\n",
            "text/plain": [
              "  ...1 Name                              Location   Car_Year Kilometers_Driven\n",
              "1 1    Hyundai Creta 1.6 CRDi SX Option  Pune       2015     41000            \n",
              "2 2    Honda Jazz V                      Chennai    2011     46000            \n",
              "3 3    Maruti Ertiga VDI                 Chennai    2012     87000            \n",
              "4 4    Audi A4 New 2.0 TDI Multitronic   Coimbatore 2013     40670            \n",
              "5 6    Nissan Micra Diesel XV            Jaipur     2013     86999            \n",
              "6 7    Toyota Innova Crysta 2.8 GX AT 8S Mumbai     2016     36000            \n",
              "  Fuel_Type Transmission Owner_Type Mileage Engine Engine_Power Seats Price\n",
              "1 Diesel    Manual       First      19.67   1582   126.20       5     12.50\n",
              "2 Petrol    Manual       First      13.00   1199    88.70       5      4.50\n",
              "3 Diesel    Manual       First      20.77   1248    88.76       7      6.00\n",
              "4 Diesel    Automatic    Second     15.20   1968   140.80       5     17.74\n",
              "5 Diesel    Manual       First      23.08   1461    63.10       5      3.50\n",
              "6 Diesel    Automatic    First      11.36   2755   171.50       8     17.50"
            ]
          },
          "metadata": {}
        }
      ]
    },
    {
      "cell_type": "code",
      "source": [
        "# Add a new column 'car_age'\n",
        "mutated_data <- data %>%\n",
        "  mutate(Car_Age = (2024 - Year))\n",
        "head(mutated_data)"
      ],
      "metadata": {
        "colab": {
          "base_uri": "https://localhost:8080/",
          "height": 283
        },
        "id": "lkH8XMdLL6VZ",
        "outputId": "eb8ab9a2-1f7b-41dd-e775-c27b10d0fcf0"
      },
      "execution_count": 44,
      "outputs": [
        {
          "output_type": "display_data",
          "data": {
            "text/html": [
              "<table class=\"dataframe\">\n",
              "<caption>A tibble: 6 × 14</caption>\n",
              "<thead>\n",
              "\t<tr><th scope=col>...1</th><th scope=col>Name</th><th scope=col>Location</th><th scope=col>Year</th><th scope=col>Kilometers_Driven</th><th scope=col>Fuel_Type</th><th scope=col>Transmission</th><th scope=col>Owner_Type</th><th scope=col>Mileage</th><th scope=col>Engine</th><th scope=col>Power</th><th scope=col>Seats</th><th scope=col>Price</th><th scope=col>Car_Age</th></tr>\n",
              "\t<tr><th scope=col>&lt;dbl&gt;</th><th scope=col>&lt;chr&gt;</th><th scope=col>&lt;chr&gt;</th><th scope=col>&lt;dbl&gt;</th><th scope=col>&lt;dbl&gt;</th><th scope=col>&lt;chr&gt;</th><th scope=col>&lt;chr&gt;</th><th scope=col>&lt;chr&gt;</th><th scope=col>&lt;dbl&gt;</th><th scope=col>&lt;dbl&gt;</th><th scope=col>&lt;dbl&gt;</th><th scope=col>&lt;dbl&gt;</th><th scope=col>&lt;dbl&gt;</th><th scope=col>&lt;dbl&gt;</th></tr>\n",
              "</thead>\n",
              "<tbody>\n",
              "\t<tr><td>1</td><td>Hyundai Creta 1.6 CRDi SX Option </td><td>Pune      </td><td>2015</td><td>41000</td><td>Diesel</td><td>Manual   </td><td>First </td><td>19.67</td><td>1582</td><td>126.20</td><td>5</td><td>12.50</td><td> 9</td></tr>\n",
              "\t<tr><td>2</td><td>Honda Jazz V                     </td><td>Chennai   </td><td>2011</td><td>46000</td><td>Petrol</td><td>Manual   </td><td>First </td><td>13.00</td><td>1199</td><td> 88.70</td><td>5</td><td> 4.50</td><td>13</td></tr>\n",
              "\t<tr><td>3</td><td>Maruti Ertiga VDI                </td><td>Chennai   </td><td>2012</td><td>87000</td><td>Diesel</td><td>Manual   </td><td>First </td><td>20.77</td><td>1248</td><td> 88.76</td><td>7</td><td> 6.00</td><td>12</td></tr>\n",
              "\t<tr><td>4</td><td>Audi A4 New 2.0 TDI Multitronic  </td><td>Coimbatore</td><td>2013</td><td>40670</td><td>Diesel</td><td>Automatic</td><td>Second</td><td>15.20</td><td>1968</td><td>140.80</td><td>5</td><td>17.74</td><td>11</td></tr>\n",
              "\t<tr><td>6</td><td>Nissan Micra Diesel XV           </td><td>Jaipur    </td><td>2013</td><td>86999</td><td>Diesel</td><td>Manual   </td><td>First </td><td>23.08</td><td>1461</td><td> 63.10</td><td>5</td><td> 3.50</td><td>11</td></tr>\n",
              "\t<tr><td>7</td><td>Toyota Innova Crysta 2.8 GX AT 8S</td><td>Mumbai    </td><td>2016</td><td>36000</td><td>Diesel</td><td>Automatic</td><td>First </td><td>11.36</td><td>2755</td><td>171.50</td><td>8</td><td>17.50</td><td> 8</td></tr>\n",
              "</tbody>\n",
              "</table>\n"
            ],
            "text/markdown": "\nA tibble: 6 × 14\n\n| ...1 &lt;dbl&gt; | Name &lt;chr&gt; | Location &lt;chr&gt; | Year &lt;dbl&gt; | Kilometers_Driven &lt;dbl&gt; | Fuel_Type &lt;chr&gt; | Transmission &lt;chr&gt; | Owner_Type &lt;chr&gt; | Mileage &lt;dbl&gt; | Engine &lt;dbl&gt; | Power &lt;dbl&gt; | Seats &lt;dbl&gt; | Price &lt;dbl&gt; | Car_Age &lt;dbl&gt; |\n|---|---|---|---|---|---|---|---|---|---|---|---|---|---|\n| 1 | Hyundai Creta 1.6 CRDi SX Option  | Pune       | 2015 | 41000 | Diesel | Manual    | First  | 19.67 | 1582 | 126.20 | 5 | 12.50 |  9 |\n| 2 | Honda Jazz V                      | Chennai    | 2011 | 46000 | Petrol | Manual    | First  | 13.00 | 1199 |  88.70 | 5 |  4.50 | 13 |\n| 3 | Maruti Ertiga VDI                 | Chennai    | 2012 | 87000 | Diesel | Manual    | First  | 20.77 | 1248 |  88.76 | 7 |  6.00 | 12 |\n| 4 | Audi A4 New 2.0 TDI Multitronic   | Coimbatore | 2013 | 40670 | Diesel | Automatic | Second | 15.20 | 1968 | 140.80 | 5 | 17.74 | 11 |\n| 6 | Nissan Micra Diesel XV            | Jaipur     | 2013 | 86999 | Diesel | Manual    | First  | 23.08 | 1461 |  63.10 | 5 |  3.50 | 11 |\n| 7 | Toyota Innova Crysta 2.8 GX AT 8S | Mumbai     | 2016 | 36000 | Diesel | Automatic | First  | 11.36 | 2755 | 171.50 | 8 | 17.50 |  8 |\n\n",
            "text/latex": "A tibble: 6 × 14\n\\begin{tabular}{llllllllllllll}\n ...1 & Name & Location & Year & Kilometers\\_Driven & Fuel\\_Type & Transmission & Owner\\_Type & Mileage & Engine & Power & Seats & Price & Car\\_Age\\\\\n <dbl> & <chr> & <chr> & <dbl> & <dbl> & <chr> & <chr> & <chr> & <dbl> & <dbl> & <dbl> & <dbl> & <dbl> & <dbl>\\\\\n\\hline\n\t 1 & Hyundai Creta 1.6 CRDi SX Option  & Pune       & 2015 & 41000 & Diesel & Manual    & First  & 19.67 & 1582 & 126.20 & 5 & 12.50 &  9\\\\\n\t 2 & Honda Jazz V                      & Chennai    & 2011 & 46000 & Petrol & Manual    & First  & 13.00 & 1199 &  88.70 & 5 &  4.50 & 13\\\\\n\t 3 & Maruti Ertiga VDI                 & Chennai    & 2012 & 87000 & Diesel & Manual    & First  & 20.77 & 1248 &  88.76 & 7 &  6.00 & 12\\\\\n\t 4 & Audi A4 New 2.0 TDI Multitronic   & Coimbatore & 2013 & 40670 & Diesel & Automatic & Second & 15.20 & 1968 & 140.80 & 5 & 17.74 & 11\\\\\n\t 6 & Nissan Micra Diesel XV            & Jaipur     & 2013 & 86999 & Diesel & Manual    & First  & 23.08 & 1461 &  63.10 & 5 &  3.50 & 11\\\\\n\t 7 & Toyota Innova Crysta 2.8 GX AT 8S & Mumbai     & 2016 & 36000 & Diesel & Automatic & First  & 11.36 & 2755 & 171.50 & 8 & 17.50 &  8\\\\\n\\end{tabular}\n",
            "text/plain": [
              "  ...1 Name                              Location   Year Kilometers_Driven\n",
              "1 1    Hyundai Creta 1.6 CRDi SX Option  Pune       2015 41000            \n",
              "2 2    Honda Jazz V                      Chennai    2011 46000            \n",
              "3 3    Maruti Ertiga VDI                 Chennai    2012 87000            \n",
              "4 4    Audi A4 New 2.0 TDI Multitronic   Coimbatore 2013 40670            \n",
              "5 6    Nissan Micra Diesel XV            Jaipur     2013 86999            \n",
              "6 7    Toyota Innova Crysta 2.8 GX AT 8S Mumbai     2016 36000            \n",
              "  Fuel_Type Transmission Owner_Type Mileage Engine Power  Seats Price Car_Age\n",
              "1 Diesel    Manual       First      19.67   1582   126.20 5     12.50  9     \n",
              "2 Petrol    Manual       First      13.00   1199    88.70 5      4.50 13     \n",
              "3 Diesel    Manual       First      20.77   1248    88.76 7      6.00 12     \n",
              "4 Diesel    Automatic    Second     15.20   1968   140.80 5     17.74 11     \n",
              "5 Diesel    Manual       First      23.08   1461    63.10 5      3.50 11     \n",
              "6 Diesel    Automatic    First      11.36   2755   171.50 8     17.50  8     "
            ]
          },
          "metadata": {}
        }
      ]
    },
    {
      "cell_type": "code",
      "source": [
        "# Arrange data by Price in descending order\n",
        "arranged_data <- data %>%\n",
        "  arrange(desc(Price))\n",
        "head(arranged_data)"
      ],
      "metadata": {
        "colab": {
          "base_uri": "https://localhost:8080/",
          "height": 283
        },
        "id": "ukKRaXvlMwLv",
        "outputId": "312ce553-dc00-458a-8d00-aa455abccbf5"
      },
      "execution_count": 45,
      "outputs": [
        {
          "output_type": "display_data",
          "data": {
            "text/html": [
              "<table class=\"dataframe\">\n",
              "<caption>A tibble: 6 × 13</caption>\n",
              "<thead>\n",
              "\t<tr><th scope=col>...1</th><th scope=col>Name</th><th scope=col>Location</th><th scope=col>Year</th><th scope=col>Kilometers_Driven</th><th scope=col>Fuel_Type</th><th scope=col>Transmission</th><th scope=col>Owner_Type</th><th scope=col>Mileage</th><th scope=col>Engine</th><th scope=col>Power</th><th scope=col>Seats</th><th scope=col>Price</th></tr>\n",
              "\t<tr><th scope=col>&lt;dbl&gt;</th><th scope=col>&lt;chr&gt;</th><th scope=col>&lt;chr&gt;</th><th scope=col>&lt;dbl&gt;</th><th scope=col>&lt;dbl&gt;</th><th scope=col>&lt;chr&gt;</th><th scope=col>&lt;chr&gt;</th><th scope=col>&lt;chr&gt;</th><th scope=col>&lt;dbl&gt;</th><th scope=col>&lt;dbl&gt;</th><th scope=col>&lt;dbl&gt;</th><th scope=col>&lt;dbl&gt;</th><th scope=col>&lt;dbl&gt;</th></tr>\n",
              "</thead>\n",
              "<tbody>\n",
              "\t<tr><td>4079</td><td>Land Rover Range Rover 3.0 Diesel LWB Vogue</td><td>Hyderabad </td><td>2017</td><td>25000</td><td>Diesel</td><td>Automatic</td><td>First</td><td>13.33</td><td>2993</td><td>255.0</td><td>5</td><td>160.00</td></tr>\n",
              "\t<tr><td>5781</td><td>Lamborghini Gallardo Coupe                 </td><td>Delhi     </td><td>2011</td><td> 6500</td><td>Petrol</td><td>Automatic</td><td>Third</td><td> 6.40</td><td>5204</td><td>560.0</td><td>2</td><td>120.00</td></tr>\n",
              "\t<tr><td>5919</td><td>Jaguar F Type 5.0 V8 S                     </td><td>Hyderabad </td><td>2015</td><td> 8000</td><td>Petrol</td><td>Automatic</td><td>First</td><td>12.50</td><td>5000</td><td>488.1</td><td>2</td><td>100.00</td></tr>\n",
              "\t<tr><td>1505</td><td>Land Rover Range Rover Sport SE            </td><td>Kochi     </td><td>2019</td><td>26013</td><td>Diesel</td><td>Automatic</td><td>First</td><td>12.65</td><td>2993</td><td>255.0</td><td>5</td><td> 97.07</td></tr>\n",
              "\t<tr><td>1974</td><td>BMW 7 Series 740Li                         </td><td>Coimbatore</td><td>2018</td><td>28060</td><td>Petrol</td><td>Automatic</td><td>First</td><td>12.05</td><td>2979</td><td>320.0</td><td>5</td><td> 93.67</td></tr>\n",
              "\t<tr><td>1984</td><td>BMW 7 Series 740Li                         </td><td>Bangalore </td><td>2017</td><td>17465</td><td>Petrol</td><td>Automatic</td><td>First</td><td>12.05</td><td>2979</td><td>320.0</td><td>5</td><td> 93.00</td></tr>\n",
              "</tbody>\n",
              "</table>\n"
            ],
            "text/markdown": "\nA tibble: 6 × 13\n\n| ...1 &lt;dbl&gt; | Name &lt;chr&gt; | Location &lt;chr&gt; | Year &lt;dbl&gt; | Kilometers_Driven &lt;dbl&gt; | Fuel_Type &lt;chr&gt; | Transmission &lt;chr&gt; | Owner_Type &lt;chr&gt; | Mileage &lt;dbl&gt; | Engine &lt;dbl&gt; | Power &lt;dbl&gt; | Seats &lt;dbl&gt; | Price &lt;dbl&gt; |\n|---|---|---|---|---|---|---|---|---|---|---|---|---|\n| 4079 | Land Rover Range Rover 3.0 Diesel LWB Vogue | Hyderabad  | 2017 | 25000 | Diesel | Automatic | First | 13.33 | 2993 | 255.0 | 5 | 160.00 |\n| 5781 | Lamborghini Gallardo Coupe                  | Delhi      | 2011 |  6500 | Petrol | Automatic | Third |  6.40 | 5204 | 560.0 | 2 | 120.00 |\n| 5919 | Jaguar F Type 5.0 V8 S                      | Hyderabad  | 2015 |  8000 | Petrol | Automatic | First | 12.50 | 5000 | 488.1 | 2 | 100.00 |\n| 1505 | Land Rover Range Rover Sport SE             | Kochi      | 2019 | 26013 | Diesel | Automatic | First | 12.65 | 2993 | 255.0 | 5 |  97.07 |\n| 1974 | BMW 7 Series 740Li                          | Coimbatore | 2018 | 28060 | Petrol | Automatic | First | 12.05 | 2979 | 320.0 | 5 |  93.67 |\n| 1984 | BMW 7 Series 740Li                          | Bangalore  | 2017 | 17465 | Petrol | Automatic | First | 12.05 | 2979 | 320.0 | 5 |  93.00 |\n\n",
            "text/latex": "A tibble: 6 × 13\n\\begin{tabular}{lllllllllllll}\n ...1 & Name & Location & Year & Kilometers\\_Driven & Fuel\\_Type & Transmission & Owner\\_Type & Mileage & Engine & Power & Seats & Price\\\\\n <dbl> & <chr> & <chr> & <dbl> & <dbl> & <chr> & <chr> & <chr> & <dbl> & <dbl> & <dbl> & <dbl> & <dbl>\\\\\n\\hline\n\t 4079 & Land Rover Range Rover 3.0 Diesel LWB Vogue & Hyderabad  & 2017 & 25000 & Diesel & Automatic & First & 13.33 & 2993 & 255.0 & 5 & 160.00\\\\\n\t 5781 & Lamborghini Gallardo Coupe                  & Delhi      & 2011 &  6500 & Petrol & Automatic & Third &  6.40 & 5204 & 560.0 & 2 & 120.00\\\\\n\t 5919 & Jaguar F Type 5.0 V8 S                      & Hyderabad  & 2015 &  8000 & Petrol & Automatic & First & 12.50 & 5000 & 488.1 & 2 & 100.00\\\\\n\t 1505 & Land Rover Range Rover Sport SE             & Kochi      & 2019 & 26013 & Diesel & Automatic & First & 12.65 & 2993 & 255.0 & 5 &  97.07\\\\\n\t 1974 & BMW 7 Series 740Li                          & Coimbatore & 2018 & 28060 & Petrol & Automatic & First & 12.05 & 2979 & 320.0 & 5 &  93.67\\\\\n\t 1984 & BMW 7 Series 740Li                          & Bangalore  & 2017 & 17465 & Petrol & Automatic & First & 12.05 & 2979 & 320.0 & 5 &  93.00\\\\\n\\end{tabular}\n",
            "text/plain": [
              "  ...1 Name                                        Location   Year\n",
              "1 4079 Land Rover Range Rover 3.0 Diesel LWB Vogue Hyderabad  2017\n",
              "2 5781 Lamborghini Gallardo Coupe                  Delhi      2011\n",
              "3 5919 Jaguar F Type 5.0 V8 S                      Hyderabad  2015\n",
              "4 1505 Land Rover Range Rover Sport SE             Kochi      2019\n",
              "5 1974 BMW 7 Series 740Li                          Coimbatore 2018\n",
              "6 1984 BMW 7 Series 740Li                          Bangalore  2017\n",
              "  Kilometers_Driven Fuel_Type Transmission Owner_Type Mileage Engine Power\n",
              "1 25000             Diesel    Automatic    First      13.33   2993   255.0\n",
              "2  6500             Petrol    Automatic    Third       6.40   5204   560.0\n",
              "3  8000             Petrol    Automatic    First      12.50   5000   488.1\n",
              "4 26013             Diesel    Automatic    First      12.65   2993   255.0\n",
              "5 28060             Petrol    Automatic    First      12.05   2979   320.0\n",
              "6 17465             Petrol    Automatic    First      12.05   2979   320.0\n",
              "  Seats Price \n",
              "1 5     160.00\n",
              "2 2     120.00\n",
              "3 2     100.00\n",
              "4 5      97.07\n",
              "5 5      93.67\n",
              "6 5      93.00"
            ]
          },
          "metadata": {}
        }
      ]
    },
    {
      "cell_type": "code",
      "source": [
        "# Summarize average price by Fuel Type\n",
        "summary_data <- data %>%\n",
        "  group_by(Fuel_Type) %>%\n",
        "  summarize(Average_Price = mean(Price, na.rm = TRUE),\n",
        "            Total_Cars = n())\n",
        "\n",
        "head(summary_data)"
      ],
      "metadata": {
        "colab": {
          "base_uri": "https://localhost:8080/",
          "height": 190
        },
        "id": "DHuVv0pCM3UO",
        "outputId": "1f73fa72-8bc3-4118-ef7b-820821a964b7"
      },
      "execution_count": 46,
      "outputs": [
        {
          "output_type": "display_data",
          "data": {
            "text/html": [
              "<table class=\"dataframe\">\n",
              "<caption>A tibble: 3 × 3</caption>\n",
              "<thead>\n",
              "\t<tr><th scope=col>Fuel_Type</th><th scope=col>Average_Price</th><th scope=col>Total_Cars</th></tr>\n",
              "\t<tr><th scope=col>&lt;chr&gt;</th><th scope=col>&lt;dbl&gt;</th><th scope=col>&lt;int&gt;</th></tr>\n",
              "</thead>\n",
              "<tbody>\n",
              "\t<tr><td>Diesel  </td><td>12.960686</td><td>3161</td></tr>\n",
              "\t<tr><td>Electric</td><td>12.875000</td><td>   2</td></tr>\n",
              "\t<tr><td>Petrol  </td><td> 5.756688</td><td>2684</td></tr>\n",
              "</tbody>\n",
              "</table>\n"
            ],
            "text/markdown": "\nA tibble: 3 × 3\n\n| Fuel_Type &lt;chr&gt; | Average_Price &lt;dbl&gt; | Total_Cars &lt;int&gt; |\n|---|---|---|\n| Diesel   | 12.960686 | 3161 |\n| Electric | 12.875000 |    2 |\n| Petrol   |  5.756688 | 2684 |\n\n",
            "text/latex": "A tibble: 3 × 3\n\\begin{tabular}{lll}\n Fuel\\_Type & Average\\_Price & Total\\_Cars\\\\\n <chr> & <dbl> & <int>\\\\\n\\hline\n\t Diesel   & 12.960686 & 3161\\\\\n\t Electric & 12.875000 &    2\\\\\n\t Petrol   &  5.756688 & 2684\\\\\n\\end{tabular}\n",
            "text/plain": [
              "  Fuel_Type Average_Price Total_Cars\n",
              "1 Diesel    12.960686     3161      \n",
              "2 Electric  12.875000        2      \n",
              "3 Petrol     5.756688     2684      "
            ]
          },
          "metadata": {}
        }
      ]
    }
  ]
}